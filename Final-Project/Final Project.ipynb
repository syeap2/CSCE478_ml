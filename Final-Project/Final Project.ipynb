{
 "cells": [
  {
   "cell_type": "markdown",
   "metadata": {},
   "source": [
<<<<<<< HEAD
    "## CSCE-478/878 Final Project\n",
    "### Human Activity Recognition using Smartphone Dataset\n",
    "#### Kaustubh Gupta, Soon Leong Yeap, Nicholas Fong\n",
=======
    "# CSCE-478/878 Final Project\n",
>>>>>>> e8777ce917cacbbdfeac94ee77f532f514953fee
    "\n",
    "## Human Activity Recognition using Smartphone Dataset\n",
    "\n",
    "### Kaustubh Gupta, Soon Leong Yeap, Nicholas Fong"
   ]
  },
  {
   "cell_type": "code",
<<<<<<< HEAD
   "execution_count": 1,
=======
   "execution_count": 7,
>>>>>>> e8777ce917cacbbdfeac94ee77f532f514953fee
   "metadata": {},
   "outputs": [],
   "source": [
    "## Imports\n",
    "import warnings\n",
    "import numpy as np\n",
    "from numpy import unique\n",
<<<<<<< HEAD
    "from numpy import array\n",
    "from numpy import vstack\n",
=======
>>>>>>> e8777ce917cacbbdfeac94ee77f532f514953fee
    "from pandas import read_csv\n",
    "from pandas import DataFrame\n",
    "from numpy import dstack\n",
    "import pandas as pd\n",
    "import matplotlib.pyplot as plt\n",
    "from sklearn.model_selection import cross_val_score\n",
    "from sklearn.metrics import accuracy_score\n",
    "from sklearn.metrics import f1_score\n",
    "from sklearn.tree import DecisionTreeClassifier\n",
    "from sklearn.neighbors import KNeighborsClassifier\n",
    "from sklearn.naive_bayes import GaussianNB\n",
    "from sklearn.svm import SVC\n",
    "from sklearn.model_selection import GridSearchCV, cross_val_score, cross_val_predict"
   ]
  },
  {
   "cell_type": "markdown",
   "metadata": {},
   "source": [
    "### Loading the data"
   ]
  },
  {
   "cell_type": "code",
<<<<<<< HEAD
   "execution_count": 2,
=======
   "execution_count": 8,
>>>>>>> e8777ce917cacbbdfeac94ee77f532f514953fee
   "metadata": {},
   "outputs": [
    {
     "name": "stdout",
     "output_type": "stream",
     "text": [
      "(7352, 561) and (7352, 1) and (2947, 561) and (2947, 1)\n",
      "(7352, 561) and (7352,) and (2947, 561) and (2947,)\n"
     ]
    }
   ],
   "source": [
    "## Loading Pre-Processed Feature Engineered Datasets\n",
    "\n",
    "# load test labels file\n",
    "x_train_fe = read_csv('HARDataset/train/X_train.txt', header=None, delim_whitespace=True) \n",
    "x_train_fe = x_train_fe.values\n",
    "# load test labels file\n",
    "x_test_fe = read_csv('HARDataset/test/X_test.txt', header=None, delim_whitespace=True) \n",
    "x_test_fe = x_test_fe.values\n",
    "# load train labels file\n",
    "y_train_fe = read_csv('HARDataset/train/y_train.txt', header=None, delim_whitespace=True) \n",
    "y_train_fe = y_train_fe.values\n",
    "y = y_train_fe\n",
    "# load test labels file\n",
    "y_test_fe = read_csv('HARDataset/test/y_test.txt', header=None, delim_whitespace=True) \n",
    "y_test_fe = y_test_fe.values\n",
    "\n",
    "print(x_train_fe.shape, \"and\", y_train_fe.shape, \"and\" , x_test_fe.shape ,\"and\", y_test_fe.shape)\n",
    "# flatten y\n",
    "y_train_fe = y_train_fe[:,0]\n",
    "y_test_fe = y_test_fe[:,0]\n",
    "print(x_train_fe.shape, \"and\", y_train_fe.shape, \"and\" , x_test_fe.shape ,\"and\", y_test_fe.shape)\n"
   ]
  },
  {
   "cell_type": "code",
<<<<<<< HEAD
   "execution_count": 3,
=======
   "execution_count": 9,
>>>>>>> e8777ce917cacbbdfeac94ee77f532f514953fee
   "metadata": {},
   "outputs": [
    {
     "name": "stdout",
     "output_type": "stream",
     "text": [
      "(7352, 128, 9)\n",
      "(7352, 1152) (7352,)\n",
      "(2947, 1152) (2947,)\n"
     ]
    }
   ],
   "source": [
    "## Loading Only Pre-Processed Raw Datasets\n",
    "\n",
    "y_train_raw = y_train_fe\n",
    "y_test_raw = y_test_fe\n",
    "\n",
    "files_test = ['HARDataset/test/Inertial Signals/total_acc_x_test.txt', \n",
    "          'HARDataset/test/Inertial Signals/total_acc_y_test.txt', \n",
    "          'HARDataset/test/Inertial Signals/total_acc_z_test.txt',\n",
    "          'HARDataset/test/Inertial Signals/body_acc_x_test.txt', \n",
    "          'HARDataset/test/Inertial Signals/body_acc_y_test.txt',\n",
    "          'HARDataset/test/Inertial Signals/body_acc_z_test.txt',\n",
    "          'HARDataset/test/Inertial Signals/body_gyro_x_test.txt',\n",
    "          'HARDataset/test/Inertial Signals/body_gyro_y_test.txt',\n",
    "          'HARDataset/test/Inertial Signals/body_gyro_z_test.txt']\n",
    "\n",
    "files_train = ['HARDataset/train/Inertial Signals/total_acc_x_train.txt', \n",
    "          'HARDataset/train/Inertial Signals/total_acc_y_train.txt', \n",
    "          'HARDataset/train/Inertial Signals/total_acc_z_train.txt',\n",
    "          'HARDataset/train/Inertial Signals/body_acc_x_train.txt', \n",
    "          'HARDataset/train/Inertial Signals/body_acc_y_train.txt',\n",
    "          'HARDataset/train/Inertial Signals/body_acc_z_train.txt',\n",
    "          'HARDataset/train/Inertial Signals/body_gyro_x_train.txt',\n",
    "          'HARDataset/train/Inertial Signals/body_gyro_y_train.txt',\n",
    "          'HARDataset/train/Inertial Signals/body_gyro_z_train.txt']\n",
    "\n",
    "loaded_files_test = list()\n",
    "loaded_files_train = list()\n",
    "\n",
    "for name in files_train:\n",
    "    file_data = read_csv(name, header=None, delim_whitespace=True)\n",
    "    file_data = file_data.values\n",
    "    loaded_files_train.append(file_data)\n",
    "loaded_files_train = dstack(loaded_files_train)\n",
    "X = loaded_files_train\n",
    "x_train_raw = loaded_files_train.reshape((loaded_files_train.shape[0], \n",
    "          loaded_files_train.shape[1] * loaded_files_train.shape[2]))\n",
    "\n",
    "print(X.shape)\n",
    "print(x_train_raw.shape, y_train_raw.shape)\n",
    "\n",
    "for name in files_test:\n",
    "    file_data = read_csv(name, header=None, delim_whitespace=True)\n",
    "    file_data = file_data.values\n",
    "    loaded_files_test.append(file_data)    \n",
    "loaded_files_test = dstack(loaded_files_test)\n",
    "x_test_raw = loaded_files_test.reshape((loaded_files_test.shape[0], \n",
    "         loaded_files_test.shape[1] * loaded_files_test.shape[2]))\n",
    "\n",
    "print(x_test_raw.shape, y_test_raw.shape)"
   ]
  },
  {
   "cell_type": "markdown",
   "metadata": {},
   "source": [
    "### Summarizing and describing the data"
   ]
  },
  {
   "cell_type": "code",
<<<<<<< HEAD
   "execution_count": 4,
=======
   "execution_count": 10,
>>>>>>> e8777ce917cacbbdfeac94ee77f532f514953fee
   "metadata": {},
   "outputs": [
    {
     "name": "stdout",
     "output_type": "stream",
     "text": [
      "Train Dataset Summary:\n",
      "Class=1, total=1226, percentage=16.676\n",
      "Class=2, total=1073, percentage=14.595\n",
      "Class=3, total=986, percentage=13.411\n",
      "Class=4, total=1286, percentage=17.492\n",
      "Class=5, total=1374, percentage=18.689\n",
      "Class=6, total=1407, percentage=19.138\n",
      "\n",
      "Test Dataset Summary:\n",
      "Class=1, total=496, percentage=16.831\n",
      "Class=2, total=471, percentage=15.982\n",
      "Class=3, total=420, percentage=14.252\n",
      "Class=4, total=491, percentage=16.661\n",
      "Class=5, total=532, percentage=18.052\n",
      "Class=6, total=537, percentage=18.222\n"
     ]
    }
   ],
   "source": [
    "# summarize the balance of classes in an output variable column\n",
    "def class_breakdown(data):\n",
    "    # convert the numpy array into a dataframe\n",
    "    df = DataFrame(data)\n",
    "    # group data by the class value and calculate the number of rows\n",
    "    counts = df.groupby(0).size()\n",
    "    # retrieve raw rows\n",
    "    counts = counts.values\n",
    "    # summarize\n",
    "    for i in range(len(counts)):\n",
    "        percent = counts[i] / len(df) * 100\n",
    "        print('Class=%d, total=%d, percentage=%.3f' % (i+1, counts[i], percent))\n",
    "\n",
    "# summarize class breakdown\n",
    "print(\"Train Dataset Summary:\")\n",
    "class_breakdown(y_train_fe)\n",
    "print()\n",
    "print(\"Test Dataset Summary:\")\n",
    "class_breakdown(y_test_fe)"
   ]
  },
  {
   "cell_type": "code",
<<<<<<< HEAD
   "execution_count": 5,
=======
   "execution_count": 11,
>>>>>>> e8777ce917cacbbdfeac94ee77f532f514953fee
   "metadata": {},
   "outputs": [
    {
     "name": "stdout",
     "output_type": "stream",
     "text": [
      "Describe Feature Engineered x_train:\n"
     ]
    },
    {
     "data": {
      "text/html": [
       "<div>\n",
       "<style scoped>\n",
       "    .dataframe tbody tr th:only-of-type {\n",
       "        vertical-align: middle;\n",
       "    }\n",
       "\n",
       "    .dataframe tbody tr th {\n",
       "        vertical-align: top;\n",
       "    }\n",
       "\n",
       "    .dataframe thead th {\n",
       "        text-align: right;\n",
       "    }\n",
       "</style>\n",
       "<table border=\"1\" class=\"dataframe\">\n",
       "  <thead>\n",
       "    <tr style=\"text-align: right;\">\n",
       "      <th></th>\n",
       "      <th>0</th>\n",
       "      <th>1</th>\n",
       "      <th>2</th>\n",
       "      <th>3</th>\n",
       "      <th>4</th>\n",
       "      <th>5</th>\n",
       "      <th>6</th>\n",
       "      <th>7</th>\n",
       "      <th>8</th>\n",
       "      <th>9</th>\n",
       "      <th>...</th>\n",
       "      <th>551</th>\n",
       "      <th>552</th>\n",
       "      <th>553</th>\n",
       "      <th>554</th>\n",
       "      <th>555</th>\n",
       "      <th>556</th>\n",
       "      <th>557</th>\n",
       "      <th>558</th>\n",
       "      <th>559</th>\n",
       "      <th>560</th>\n",
       "    </tr>\n",
       "  </thead>\n",
       "  <tbody>\n",
       "    <tr>\n",
       "      <th>count</th>\n",
       "      <td>7352.000000</td>\n",
       "      <td>7352.000000</td>\n",
       "      <td>7352.000000</td>\n",
       "      <td>7352.000000</td>\n",
       "      <td>7352.000000</td>\n",
       "      <td>7352.000000</td>\n",
       "      <td>7352.000000</td>\n",
       "      <td>7352.000000</td>\n",
       "      <td>7352.000000</td>\n",
       "      <td>7352.000000</td>\n",
       "      <td>...</td>\n",
       "      <td>7352.000000</td>\n",
       "      <td>7352.000000</td>\n",
       "      <td>7352.000000</td>\n",
       "      <td>7352.000000</td>\n",
       "      <td>7352.000000</td>\n",
       "      <td>7352.000000</td>\n",
       "      <td>7352.000000</td>\n",
       "      <td>7352.000000</td>\n",
       "      <td>7352.000000</td>\n",
       "      <td>7352.000000</td>\n",
       "    </tr>\n",
       "    <tr>\n",
       "      <th>mean</th>\n",
       "      <td>0.274488</td>\n",
       "      <td>-0.017695</td>\n",
       "      <td>-0.109141</td>\n",
       "      <td>-0.605438</td>\n",
       "      <td>-0.510938</td>\n",
       "      <td>-0.604754</td>\n",
       "      <td>-0.630512</td>\n",
       "      <td>-0.526907</td>\n",
       "      <td>-0.606150</td>\n",
       "      <td>-0.468604</td>\n",
       "      <td>...</td>\n",
       "      <td>0.125293</td>\n",
       "      <td>-0.307009</td>\n",
       "      <td>-0.625294</td>\n",
       "      <td>0.008684</td>\n",
       "      <td>0.002186</td>\n",
       "      <td>0.008726</td>\n",
       "      <td>-0.005981</td>\n",
       "      <td>-0.489547</td>\n",
       "      <td>0.058593</td>\n",
       "      <td>-0.056515</td>\n",
       "    </tr>\n",
       "    <tr>\n",
       "      <th>std</th>\n",
       "      <td>0.070261</td>\n",
       "      <td>0.040811</td>\n",
       "      <td>0.056635</td>\n",
       "      <td>0.448734</td>\n",
       "      <td>0.502645</td>\n",
       "      <td>0.418687</td>\n",
       "      <td>0.424073</td>\n",
       "      <td>0.485942</td>\n",
       "      <td>0.414122</td>\n",
       "      <td>0.544547</td>\n",
       "      <td>...</td>\n",
       "      <td>0.250994</td>\n",
       "      <td>0.321011</td>\n",
       "      <td>0.307584</td>\n",
       "      <td>0.336787</td>\n",
       "      <td>0.448306</td>\n",
       "      <td>0.608303</td>\n",
       "      <td>0.477975</td>\n",
       "      <td>0.511807</td>\n",
       "      <td>0.297480</td>\n",
       "      <td>0.279122</td>\n",
       "    </tr>\n",
       "    <tr>\n",
       "      <th>min</th>\n",
       "      <td>-1.000000</td>\n",
       "      <td>-1.000000</td>\n",
       "      <td>-1.000000</td>\n",
       "      <td>-1.000000</td>\n",
       "      <td>-0.999873</td>\n",
       "      <td>-1.000000</td>\n",
       "      <td>-1.000000</td>\n",
       "      <td>-1.000000</td>\n",
       "      <td>-1.000000</td>\n",
       "      <td>-1.000000</td>\n",
       "      <td>...</td>\n",
       "      <td>-1.000000</td>\n",
       "      <td>-0.995357</td>\n",
       "      <td>-0.999765</td>\n",
       "      <td>-0.976580</td>\n",
       "      <td>-1.000000</td>\n",
       "      <td>-1.000000</td>\n",
       "      <td>-1.000000</td>\n",
       "      <td>-1.000000</td>\n",
       "      <td>-1.000000</td>\n",
       "      <td>-1.000000</td>\n",
       "    </tr>\n",
       "    <tr>\n",
       "      <th>25%</th>\n",
       "      <td>0.262975</td>\n",
       "      <td>-0.024863</td>\n",
       "      <td>-0.120993</td>\n",
       "      <td>-0.992754</td>\n",
       "      <td>-0.978129</td>\n",
       "      <td>-0.980233</td>\n",
       "      <td>-0.993591</td>\n",
       "      <td>-0.978162</td>\n",
       "      <td>-0.980251</td>\n",
       "      <td>-0.936219</td>\n",
       "      <td>...</td>\n",
       "      <td>-0.023692</td>\n",
       "      <td>-0.542602</td>\n",
       "      <td>-0.845573</td>\n",
       "      <td>-0.121527</td>\n",
       "      <td>-0.289549</td>\n",
       "      <td>-0.482273</td>\n",
       "      <td>-0.376341</td>\n",
       "      <td>-0.812065</td>\n",
       "      <td>-0.017885</td>\n",
       "      <td>-0.143414</td>\n",
       "    </tr>\n",
       "    <tr>\n",
       "      <th>50%</th>\n",
       "      <td>0.277193</td>\n",
       "      <td>-0.017219</td>\n",
       "      <td>-0.108676</td>\n",
       "      <td>-0.946196</td>\n",
       "      <td>-0.851897</td>\n",
       "      <td>-0.859365</td>\n",
       "      <td>-0.950709</td>\n",
       "      <td>-0.857328</td>\n",
       "      <td>-0.857143</td>\n",
       "      <td>-0.881637</td>\n",
       "      <td>...</td>\n",
       "      <td>0.134000</td>\n",
       "      <td>-0.343685</td>\n",
       "      <td>-0.711692</td>\n",
       "      <td>0.009509</td>\n",
       "      <td>0.008943</td>\n",
       "      <td>0.008735</td>\n",
       "      <td>-0.000368</td>\n",
       "      <td>-0.709417</td>\n",
       "      <td>0.182071</td>\n",
       "      <td>0.003181</td>\n",
       "    </tr>\n",
       "    <tr>\n",
       "      <th>75%</th>\n",
       "      <td>0.288461</td>\n",
       "      <td>-0.010783</td>\n",
       "      <td>-0.097794</td>\n",
       "      <td>-0.242813</td>\n",
       "      <td>-0.034231</td>\n",
       "      <td>-0.262415</td>\n",
       "      <td>-0.292680</td>\n",
       "      <td>-0.066701</td>\n",
       "      <td>-0.265671</td>\n",
       "      <td>-0.017129</td>\n",
       "      <td>...</td>\n",
       "      <td>0.289096</td>\n",
       "      <td>-0.126979</td>\n",
       "      <td>-0.503878</td>\n",
       "      <td>0.150865</td>\n",
       "      <td>0.292861</td>\n",
       "      <td>0.506187</td>\n",
       "      <td>0.359368</td>\n",
       "      <td>-0.509079</td>\n",
       "      <td>0.248353</td>\n",
       "      <td>0.107659</td>\n",
       "    </tr>\n",
       "    <tr>\n",
       "      <th>max</th>\n",
       "      <td>1.000000</td>\n",
       "      <td>1.000000</td>\n",
       "      <td>1.000000</td>\n",
       "      <td>1.000000</td>\n",
       "      <td>0.916238</td>\n",
       "      <td>1.000000</td>\n",
       "      <td>1.000000</td>\n",
       "      <td>0.967664</td>\n",
       "      <td>1.000000</td>\n",
       "      <td>1.000000</td>\n",
       "      <td>...</td>\n",
       "      <td>0.946700</td>\n",
       "      <td>0.989538</td>\n",
       "      <td>0.956845</td>\n",
       "      <td>1.000000</td>\n",
       "      <td>1.000000</td>\n",
       "      <td>0.998702</td>\n",
       "      <td>0.996078</td>\n",
       "      <td>1.000000</td>\n",
       "      <td>0.478157</td>\n",
       "      <td>1.000000</td>\n",
       "    </tr>\n",
       "  </tbody>\n",
       "</table>\n",
       "<p>8 rows × 561 columns</p>\n",
       "</div>"
      ],
      "text/plain": [
       "               0            1            2            3            4    \\\n",
       "count  7352.000000  7352.000000  7352.000000  7352.000000  7352.000000   \n",
       "mean      0.274488    -0.017695    -0.109141    -0.605438    -0.510938   \n",
       "std       0.070261     0.040811     0.056635     0.448734     0.502645   \n",
       "min      -1.000000    -1.000000    -1.000000    -1.000000    -0.999873   \n",
       "25%       0.262975    -0.024863    -0.120993    -0.992754    -0.978129   \n",
       "50%       0.277193    -0.017219    -0.108676    -0.946196    -0.851897   \n",
       "75%       0.288461    -0.010783    -0.097794    -0.242813    -0.034231   \n",
       "max       1.000000     1.000000     1.000000     1.000000     0.916238   \n",
       "\n",
       "               5            6            7            8            9    ...  \\\n",
       "count  7352.000000  7352.000000  7352.000000  7352.000000  7352.000000  ...   \n",
       "mean     -0.604754    -0.630512    -0.526907    -0.606150    -0.468604  ...   \n",
       "std       0.418687     0.424073     0.485942     0.414122     0.544547  ...   \n",
       "min      -1.000000    -1.000000    -1.000000    -1.000000    -1.000000  ...   \n",
       "25%      -0.980233    -0.993591    -0.978162    -0.980251    -0.936219  ...   \n",
       "50%      -0.859365    -0.950709    -0.857328    -0.857143    -0.881637  ...   \n",
       "75%      -0.262415    -0.292680    -0.066701    -0.265671    -0.017129  ...   \n",
       "max       1.000000     1.000000     0.967664     1.000000     1.000000  ...   \n",
       "\n",
       "               551          552          553          554          555  \\\n",
       "count  7352.000000  7352.000000  7352.000000  7352.000000  7352.000000   \n",
       "mean      0.125293    -0.307009    -0.625294     0.008684     0.002186   \n",
       "std       0.250994     0.321011     0.307584     0.336787     0.448306   \n",
       "min      -1.000000    -0.995357    -0.999765    -0.976580    -1.000000   \n",
       "25%      -0.023692    -0.542602    -0.845573    -0.121527    -0.289549   \n",
       "50%       0.134000    -0.343685    -0.711692     0.009509     0.008943   \n",
       "75%       0.289096    -0.126979    -0.503878     0.150865     0.292861   \n",
       "max       0.946700     0.989538     0.956845     1.000000     1.000000   \n",
       "\n",
       "               556          557          558          559          560  \n",
       "count  7352.000000  7352.000000  7352.000000  7352.000000  7352.000000  \n",
       "mean      0.008726    -0.005981    -0.489547     0.058593    -0.056515  \n",
       "std       0.608303     0.477975     0.511807     0.297480     0.279122  \n",
       "min      -1.000000    -1.000000    -1.000000    -1.000000    -1.000000  \n",
       "25%      -0.482273    -0.376341    -0.812065    -0.017885    -0.143414  \n",
       "50%       0.008735    -0.000368    -0.709417     0.182071     0.003181  \n",
       "75%       0.506187     0.359368    -0.509079     0.248353     0.107659  \n",
       "max       0.998702     0.996078     1.000000     0.478157     1.000000  \n",
       "\n",
       "[8 rows x 561 columns]"
      ]
     },
<<<<<<< HEAD
     "execution_count": 5,
=======
     "execution_count": 11,
>>>>>>> e8777ce917cacbbdfeac94ee77f532f514953fee
     "metadata": {},
     "output_type": "execute_result"
    }
   ],
   "source": [
    "print(\"Describe Feature Engineered x_train:\")\n",
    "DataFrame(x_train_fe).describe()"
   ]
  },
  {
   "cell_type": "code",
<<<<<<< HEAD
   "execution_count": 6,
=======
   "execution_count": 12,
>>>>>>> e8777ce917cacbbdfeac94ee77f532f514953fee
   "metadata": {},
   "outputs": [
    {
     "name": "stdout",
     "output_type": "stream",
     "text": [
      "Describe Raw x_train:\n"
     ]
    },
    {
     "data": {
      "text/html": [
       "<div>\n",
       "<style scoped>\n",
       "    .dataframe tbody tr th:only-of-type {\n",
       "        vertical-align: middle;\n",
       "    }\n",
       "\n",
       "    .dataframe tbody tr th {\n",
       "        vertical-align: top;\n",
       "    }\n",
       "\n",
       "    .dataframe thead th {\n",
       "        text-align: right;\n",
       "    }\n",
       "</style>\n",
       "<table border=\"1\" class=\"dataframe\">\n",
       "  <thead>\n",
       "    <tr style=\"text-align: right;\">\n",
       "      <th></th>\n",
       "      <th>0</th>\n",
       "      <th>1</th>\n",
       "      <th>2</th>\n",
       "      <th>3</th>\n",
       "      <th>4</th>\n",
       "      <th>5</th>\n",
       "      <th>6</th>\n",
       "      <th>7</th>\n",
       "      <th>8</th>\n",
       "      <th>9</th>\n",
       "      <th>...</th>\n",
       "      <th>1142</th>\n",
       "      <th>1143</th>\n",
       "      <th>1144</th>\n",
       "      <th>1145</th>\n",
       "      <th>1146</th>\n",
       "      <th>1147</th>\n",
       "      <th>1148</th>\n",
       "      <th>1149</th>\n",
       "      <th>1150</th>\n",
       "      <th>1151</th>\n",
       "    </tr>\n",
       "  </thead>\n",
       "  <tbody>\n",
       "    <tr>\n",
       "      <th>count</th>\n",
       "      <td>7352.000000</td>\n",
       "      <td>7352.000000</td>\n",
       "      <td>7352.000000</td>\n",
       "      <td>7352.000000</td>\n",
       "      <td>7352.000000</td>\n",
       "      <td>7352.000000</td>\n",
       "      <td>7352.000000</td>\n",
       "      <td>7352.000000</td>\n",
       "      <td>7352.000000</td>\n",
       "      <td>7352.000000</td>\n",
       "      <td>...</td>\n",
       "      <td>7352.000000</td>\n",
       "      <td>7352.000000</td>\n",
       "      <td>7352.000000</td>\n",
       "      <td>7352.000000</td>\n",
       "      <td>7352.000000</td>\n",
       "      <td>7352.000000</td>\n",
       "      <td>7352.000000</td>\n",
       "      <td>7352.000000</td>\n",
       "      <td>7352.000000</td>\n",
       "      <td>7352.000000</td>\n",
       "    </tr>\n",
       "    <tr>\n",
       "      <th>mean</th>\n",
       "      <td>0.804024</td>\n",
       "      <td>0.027620</td>\n",
       "      <td>0.090438</td>\n",
       "      <td>-0.003374</td>\n",
       "      <td>-0.000437</td>\n",
       "      <td>0.004856</td>\n",
       "      <td>-0.000707</td>\n",
       "      <td>0.009055</td>\n",
       "      <td>0.003162</td>\n",
       "      <td>0.804490</td>\n",
       "      <td>...</td>\n",
       "      <td>0.002908</td>\n",
       "      <td>0.806415</td>\n",
       "      <td>0.026274</td>\n",
       "      <td>0.087522</td>\n",
       "      <td>0.001978</td>\n",
       "      <td>-0.002557</td>\n",
       "      <td>0.001282</td>\n",
       "      <td>-0.003504</td>\n",
       "      <td>0.001459</td>\n",
       "      <td>0.003617</td>\n",
       "    </tr>\n",
       "    <tr>\n",
       "      <th>std</th>\n",
       "      <td>0.414103</td>\n",
       "      <td>0.390980</td>\n",
       "      <td>0.356996</td>\n",
       "      <td>0.198317</td>\n",
       "      <td>0.125660</td>\n",
       "      <td>0.111204</td>\n",
       "      <td>0.418437</td>\n",
       "      <td>0.374442</td>\n",
       "      <td>0.258786</td>\n",
       "      <td>0.413731</td>\n",
       "      <td>...</td>\n",
       "      <td>0.258495</td>\n",
       "      <td>0.417875</td>\n",
       "      <td>0.392548</td>\n",
       "      <td>0.358952</td>\n",
       "      <td>0.199408</td>\n",
       "      <td>0.121517</td>\n",
       "      <td>0.105263</td>\n",
       "      <td>0.411174</td>\n",
       "      <td>0.372364</td>\n",
       "      <td>0.257599</td>\n",
       "    </tr>\n",
       "    <tr>\n",
       "      <th>min</th>\n",
       "      <td>-0.405665</td>\n",
       "      <td>-1.131754</td>\n",
       "      <td>-1.206339</td>\n",
       "      <td>-0.857863</td>\n",
       "      <td>-0.890609</td>\n",
       "      <td>-0.797215</td>\n",
       "      <td>-2.945864</td>\n",
       "      <td>-2.853085</td>\n",
       "      <td>-2.216418</td>\n",
       "      <td>-0.399891</td>\n",
       "      <td>...</td>\n",
       "      <td>-2.036767</td>\n",
       "      <td>-0.411995</td>\n",
       "      <td>-1.297008</td>\n",
       "      <td>-1.147546</td>\n",
       "      <td>-0.795426</td>\n",
       "      <td>-0.994173</td>\n",
       "      <td>-0.719086</td>\n",
       "      <td>-3.658334</td>\n",
       "      <td>-2.651202</td>\n",
       "      <td>-2.192251</td>\n",
       "    </tr>\n",
       "    <tr>\n",
       "      <th>25%</th>\n",
       "      <td>0.665270</td>\n",
       "      <td>-0.222442</td>\n",
       "      <td>-0.126715</td>\n",
       "      <td>-0.038449</td>\n",
       "      <td>-0.012259</td>\n",
       "      <td>-0.014686</td>\n",
       "      <td>-0.052254</td>\n",
       "      <td>-0.054155</td>\n",
       "      <td>-0.031872</td>\n",
       "      <td>0.670202</td>\n",
       "      <td>...</td>\n",
       "      <td>-0.019726</td>\n",
       "      <td>0.657181</td>\n",
       "      <td>-0.227482</td>\n",
       "      <td>-0.131867</td>\n",
       "      <td>-0.023289</td>\n",
       "      <td>-0.009988</td>\n",
       "      <td>-0.013037</td>\n",
       "      <td>-0.043289</td>\n",
       "      <td>-0.046645</td>\n",
       "      <td>-0.020614</td>\n",
       "    </tr>\n",
       "    <tr>\n",
       "      <th>50%</th>\n",
       "      <td>0.953989</td>\n",
       "      <td>-0.083841</td>\n",
       "      <td>0.047347</td>\n",
       "      <td>-0.000718</td>\n",
       "      <td>0.000669</td>\n",
       "      <td>0.000566</td>\n",
       "      <td>0.000207</td>\n",
       "      <td>0.000530</td>\n",
       "      <td>0.000400</td>\n",
       "      <td>0.955487</td>\n",
       "      <td>...</td>\n",
       "      <td>0.000334</td>\n",
       "      <td>0.956491</td>\n",
       "      <td>-0.085488</td>\n",
       "      <td>0.041329</td>\n",
       "      <td>-0.000622</td>\n",
       "      <td>0.000503</td>\n",
       "      <td>0.000274</td>\n",
       "      <td>-0.000372</td>\n",
       "      <td>-0.000223</td>\n",
       "      <td>0.000506</td>\n",
       "    </tr>\n",
       "    <tr>\n",
       "      <th>75%</th>\n",
       "      <td>1.019297</td>\n",
       "      <td>0.182420</td>\n",
       "      <td>0.244732</td>\n",
       "      <td>0.008661</td>\n",
       "      <td>0.026403</td>\n",
       "      <td>0.025860</td>\n",
       "      <td>0.073247</td>\n",
       "      <td>0.056535</td>\n",
       "      <td>0.063529</td>\n",
       "      <td>1.019451</td>\n",
       "      <td>...</td>\n",
       "      <td>0.040743</td>\n",
       "      <td>1.019425</td>\n",
       "      <td>0.188911</td>\n",
       "      <td>0.241278</td>\n",
       "      <td>0.006828</td>\n",
       "      <td>0.016794</td>\n",
       "      <td>0.016118</td>\n",
       "      <td>0.040510</td>\n",
       "      <td>0.032087</td>\n",
       "      <td>0.042660</td>\n",
       "    </tr>\n",
       "    <tr>\n",
       "      <th>max</th>\n",
       "      <td>2.104388</td>\n",
       "      <td>1.134527</td>\n",
       "      <td>1.158310</td>\n",
       "      <td>1.133144</td>\n",
       "      <td>0.742966</td>\n",
       "      <td>0.722546</td>\n",
       "      <td>2.570758</td>\n",
       "      <td>3.528782</td>\n",
       "      <td>1.671485</td>\n",
       "      <td>2.074192</td>\n",
       "      <td>...</td>\n",
       "      <td>1.607418</td>\n",
       "      <td>2.060867</td>\n",
       "      <td>1.024147</td>\n",
       "      <td>0.986860</td>\n",
       "      <td>1.087837</td>\n",
       "      <td>0.751092</td>\n",
       "      <td>0.777403</td>\n",
       "      <td>4.077152</td>\n",
       "      <td>3.610321</td>\n",
       "      <td>1.898607</td>\n",
       "    </tr>\n",
       "  </tbody>\n",
       "</table>\n",
       "<p>8 rows × 1152 columns</p>\n",
       "</div>"
      ],
      "text/plain": [
       "              0            1            2            3            4     \\\n",
       "count  7352.000000  7352.000000  7352.000000  7352.000000  7352.000000   \n",
       "mean      0.804024     0.027620     0.090438    -0.003374    -0.000437   \n",
       "std       0.414103     0.390980     0.356996     0.198317     0.125660   \n",
       "min      -0.405665    -1.131754    -1.206339    -0.857863    -0.890609   \n",
       "25%       0.665270    -0.222442    -0.126715    -0.038449    -0.012259   \n",
       "50%       0.953989    -0.083841     0.047347    -0.000718     0.000669   \n",
       "75%       1.019297     0.182420     0.244732     0.008661     0.026403   \n",
       "max       2.104388     1.134527     1.158310     1.133144     0.742966   \n",
       "\n",
       "              5            6            7            8            9     ...  \\\n",
       "count  7352.000000  7352.000000  7352.000000  7352.000000  7352.000000  ...   \n",
       "mean      0.004856    -0.000707     0.009055     0.003162     0.804490  ...   \n",
       "std       0.111204     0.418437     0.374442     0.258786     0.413731  ...   \n",
       "min      -0.797215    -2.945864    -2.853085    -2.216418    -0.399891  ...   \n",
       "25%      -0.014686    -0.052254    -0.054155    -0.031872     0.670202  ...   \n",
       "50%       0.000566     0.000207     0.000530     0.000400     0.955487  ...   \n",
       "75%       0.025860     0.073247     0.056535     0.063529     1.019451  ...   \n",
       "max       0.722546     2.570758     3.528782     1.671485     2.074192  ...   \n",
       "\n",
       "              1142         1143         1144         1145         1146  \\\n",
       "count  7352.000000  7352.000000  7352.000000  7352.000000  7352.000000   \n",
       "mean      0.002908     0.806415     0.026274     0.087522     0.001978   \n",
       "std       0.258495     0.417875     0.392548     0.358952     0.199408   \n",
       "min      -2.036767    -0.411995    -1.297008    -1.147546    -0.795426   \n",
       "25%      -0.019726     0.657181    -0.227482    -0.131867    -0.023289   \n",
       "50%       0.000334     0.956491    -0.085488     0.041329    -0.000622   \n",
       "75%       0.040743     1.019425     0.188911     0.241278     0.006828   \n",
       "max       1.607418     2.060867     1.024147     0.986860     1.087837   \n",
       "\n",
       "              1147         1148         1149         1150         1151  \n",
       "count  7352.000000  7352.000000  7352.000000  7352.000000  7352.000000  \n",
       "mean     -0.002557     0.001282    -0.003504     0.001459     0.003617  \n",
       "std       0.121517     0.105263     0.411174     0.372364     0.257599  \n",
       "min      -0.994173    -0.719086    -3.658334    -2.651202    -2.192251  \n",
       "25%      -0.009988    -0.013037    -0.043289    -0.046645    -0.020614  \n",
       "50%       0.000503     0.000274    -0.000372    -0.000223     0.000506  \n",
       "75%       0.016794     0.016118     0.040510     0.032087     0.042660  \n",
       "max       0.751092     0.777403     4.077152     3.610321     1.898607  \n",
       "\n",
       "[8 rows x 1152 columns]"
      ]
     },
<<<<<<< HEAD
     "execution_count": 6,
=======
     "execution_count": 12,
>>>>>>> e8777ce917cacbbdfeac94ee77f532f514953fee
     "metadata": {},
     "output_type": "execute_result"
    }
   ],
   "source": [
    "print(\"Describe Raw x_train:\")\n",
    "DataFrame(x_train_raw).describe()"
   ]
  },
  {
   "cell_type": "code",
<<<<<<< HEAD
   "execution_count": 7,
=======
   "execution_count": 13,
>>>>>>> e8777ce917cacbbdfeac94ee77f532f514953fee
   "metadata": {},
   "outputs": [
    {
     "name": "stdout",
     "output_type": "stream",
     "text": [
      "Describe Feature Engineered x_test:\n"
     ]
    },
    {
     "data": {
      "text/html": [
       "<div>\n",
       "<style scoped>\n",
       "    .dataframe tbody tr th:only-of-type {\n",
       "        vertical-align: middle;\n",
       "    }\n",
       "\n",
       "    .dataframe tbody tr th {\n",
       "        vertical-align: top;\n",
       "    }\n",
       "\n",
       "    .dataframe thead th {\n",
       "        text-align: right;\n",
       "    }\n",
       "</style>\n",
       "<table border=\"1\" class=\"dataframe\">\n",
       "  <thead>\n",
       "    <tr style=\"text-align: right;\">\n",
       "      <th></th>\n",
       "      <th>0</th>\n",
       "      <th>1</th>\n",
       "      <th>2</th>\n",
       "      <th>3</th>\n",
       "      <th>4</th>\n",
       "      <th>5</th>\n",
       "      <th>6</th>\n",
       "      <th>7</th>\n",
       "      <th>8</th>\n",
       "      <th>9</th>\n",
       "      <th>...</th>\n",
       "      <th>551</th>\n",
       "      <th>552</th>\n",
       "      <th>553</th>\n",
       "      <th>554</th>\n",
       "      <th>555</th>\n",
       "      <th>556</th>\n",
       "      <th>557</th>\n",
       "      <th>558</th>\n",
       "      <th>559</th>\n",
       "      <th>560</th>\n",
       "    </tr>\n",
       "  </thead>\n",
       "  <tbody>\n",
       "    <tr>\n",
       "      <th>count</th>\n",
       "      <td>2947.000000</td>\n",
       "      <td>2947.000000</td>\n",
       "      <td>2947.000000</td>\n",
       "      <td>2947.000000</td>\n",
       "      <td>2947.000000</td>\n",
       "      <td>2947.000000</td>\n",
       "      <td>2947.000000</td>\n",
       "      <td>2947.000000</td>\n",
       "      <td>2947.000000</td>\n",
       "      <td>2947.000000</td>\n",
       "      <td>...</td>\n",
       "      <td>2947.000000</td>\n",
       "      <td>2947.000000</td>\n",
       "      <td>2947.000000</td>\n",
       "      <td>2947.000000</td>\n",
       "      <td>2947.000000</td>\n",
       "      <td>2947.000000</td>\n",
       "      <td>2947.000000</td>\n",
       "      <td>2947.000000</td>\n",
       "      <td>2947.000000</td>\n",
       "      <td>2947.000000</td>\n",
       "    </tr>\n",
       "    <tr>\n",
       "      <th>mean</th>\n",
       "      <td>0.273996</td>\n",
       "      <td>-0.017863</td>\n",
       "      <td>-0.108386</td>\n",
       "      <td>-0.613635</td>\n",
       "      <td>-0.508330</td>\n",
       "      <td>-0.633797</td>\n",
       "      <td>-0.641278</td>\n",
       "      <td>-0.522676</td>\n",
       "      <td>-0.637038</td>\n",
       "      <td>-0.462063</td>\n",
       "      <td>...</td>\n",
       "      <td>0.130236</td>\n",
       "      <td>-0.277593</td>\n",
       "      <td>-0.598756</td>\n",
       "      <td>0.005264</td>\n",
       "      <td>0.003799</td>\n",
       "      <td>0.040029</td>\n",
       "      <td>-0.017298</td>\n",
       "      <td>-0.513923</td>\n",
       "      <td>0.074886</td>\n",
       "      <td>-0.048720</td>\n",
       "    </tr>\n",
       "    <tr>\n",
       "      <th>std</th>\n",
       "      <td>0.060570</td>\n",
       "      <td>0.025745</td>\n",
       "      <td>0.042747</td>\n",
       "      <td>0.412597</td>\n",
       "      <td>0.494269</td>\n",
       "      <td>0.362699</td>\n",
       "      <td>0.385199</td>\n",
       "      <td>0.479899</td>\n",
       "      <td>0.357753</td>\n",
       "      <td>0.523916</td>\n",
       "      <td>...</td>\n",
       "      <td>0.231018</td>\n",
       "      <td>0.317245</td>\n",
       "      <td>0.311042</td>\n",
       "      <td>0.336147</td>\n",
       "      <td>0.445077</td>\n",
       "      <td>0.634989</td>\n",
       "      <td>0.501311</td>\n",
       "      <td>0.509205</td>\n",
       "      <td>0.324300</td>\n",
       "      <td>0.241467</td>\n",
       "    </tr>\n",
       "    <tr>\n",
       "      <th>min</th>\n",
       "      <td>-0.592004</td>\n",
       "      <td>-0.362884</td>\n",
       "      <td>-0.576184</td>\n",
       "      <td>-0.999606</td>\n",
       "      <td>-1.000000</td>\n",
       "      <td>-0.998955</td>\n",
       "      <td>-0.999417</td>\n",
       "      <td>-0.999914</td>\n",
       "      <td>-0.998899</td>\n",
       "      <td>-0.952357</td>\n",
       "      <td>...</td>\n",
       "      <td>-0.785543</td>\n",
       "      <td>-1.000000</td>\n",
       "      <td>-1.000000</td>\n",
       "      <td>-1.000000</td>\n",
       "      <td>-0.993402</td>\n",
       "      <td>-0.998898</td>\n",
       "      <td>-0.991096</td>\n",
       "      <td>-0.984195</td>\n",
       "      <td>-0.913704</td>\n",
       "      <td>-0.949228</td>\n",
       "    </tr>\n",
       "    <tr>\n",
       "      <th>25%</th>\n",
       "      <td>0.262075</td>\n",
       "      <td>-0.024961</td>\n",
       "      <td>-0.121162</td>\n",
       "      <td>-0.990914</td>\n",
       "      <td>-0.973664</td>\n",
       "      <td>-0.976122</td>\n",
       "      <td>-0.992333</td>\n",
       "      <td>-0.974131</td>\n",
       "      <td>-0.975352</td>\n",
       "      <td>-0.934447</td>\n",
       "      <td>...</td>\n",
       "      <td>-0.008433</td>\n",
       "      <td>-0.517494</td>\n",
       "      <td>-0.829593</td>\n",
       "      <td>-0.130541</td>\n",
       "      <td>-0.282600</td>\n",
       "      <td>-0.518924</td>\n",
       "      <td>-0.428375</td>\n",
       "      <td>-0.829722</td>\n",
       "      <td>0.022140</td>\n",
       "      <td>-0.098485</td>\n",
       "    </tr>\n",
       "    <tr>\n",
       "      <th>50%</th>\n",
       "      <td>0.277113</td>\n",
       "      <td>-0.016967</td>\n",
       "      <td>-0.108458</td>\n",
       "      <td>-0.931214</td>\n",
       "      <td>-0.790972</td>\n",
       "      <td>-0.827534</td>\n",
       "      <td>-0.937664</td>\n",
       "      <td>-0.799907</td>\n",
       "      <td>-0.817005</td>\n",
       "      <td>-0.852659</td>\n",
       "      <td>...</td>\n",
       "      <td>0.142676</td>\n",
       "      <td>-0.311023</td>\n",
       "      <td>-0.683672</td>\n",
       "      <td>0.005188</td>\n",
       "      <td>0.006767</td>\n",
       "      <td>0.047113</td>\n",
       "      <td>-0.026726</td>\n",
       "      <td>-0.729648</td>\n",
       "      <td>0.181563</td>\n",
       "      <td>-0.010671</td>\n",
       "    </tr>\n",
       "    <tr>\n",
       "      <th>75%</th>\n",
       "      <td>0.288097</td>\n",
       "      <td>-0.010143</td>\n",
       "      <td>-0.097123</td>\n",
       "      <td>-0.267395</td>\n",
       "      <td>-0.105919</td>\n",
       "      <td>-0.311432</td>\n",
       "      <td>-0.321719</td>\n",
       "      <td>-0.133488</td>\n",
       "      <td>-0.322771</td>\n",
       "      <td>-0.009965</td>\n",
       "      <td>...</td>\n",
       "      <td>0.288320</td>\n",
       "      <td>-0.083559</td>\n",
       "      <td>-0.458332</td>\n",
       "      <td>0.146200</td>\n",
       "      <td>0.288113</td>\n",
       "      <td>0.622151</td>\n",
       "      <td>0.394387</td>\n",
       "      <td>-0.545939</td>\n",
       "      <td>0.260252</td>\n",
       "      <td>0.092373</td>\n",
       "    </tr>\n",
       "    <tr>\n",
       "      <th>max</th>\n",
       "      <td>0.671887</td>\n",
       "      <td>0.246106</td>\n",
       "      <td>0.494114</td>\n",
       "      <td>0.465299</td>\n",
       "      <td>1.000000</td>\n",
       "      <td>0.489703</td>\n",
       "      <td>0.439657</td>\n",
       "      <td>1.000000</td>\n",
       "      <td>0.427958</td>\n",
       "      <td>0.786436</td>\n",
       "      <td>...</td>\n",
       "      <td>1.000000</td>\n",
       "      <td>1.000000</td>\n",
       "      <td>1.000000</td>\n",
       "      <td>0.998898</td>\n",
       "      <td>0.986347</td>\n",
       "      <td>1.000000</td>\n",
       "      <td>1.000000</td>\n",
       "      <td>0.833180</td>\n",
       "      <td>1.000000</td>\n",
       "      <td>0.973113</td>\n",
       "    </tr>\n",
       "  </tbody>\n",
       "</table>\n",
       "<p>8 rows × 561 columns</p>\n",
       "</div>"
      ],
      "text/plain": [
       "               0            1            2            3            4    \\\n",
       "count  2947.000000  2947.000000  2947.000000  2947.000000  2947.000000   \n",
       "mean      0.273996    -0.017863    -0.108386    -0.613635    -0.508330   \n",
       "std       0.060570     0.025745     0.042747     0.412597     0.494269   \n",
       "min      -0.592004    -0.362884    -0.576184    -0.999606    -1.000000   \n",
       "25%       0.262075    -0.024961    -0.121162    -0.990914    -0.973664   \n",
       "50%       0.277113    -0.016967    -0.108458    -0.931214    -0.790972   \n",
       "75%       0.288097    -0.010143    -0.097123    -0.267395    -0.105919   \n",
       "max       0.671887     0.246106     0.494114     0.465299     1.000000   \n",
       "\n",
       "               5            6            7            8            9    ...  \\\n",
       "count  2947.000000  2947.000000  2947.000000  2947.000000  2947.000000  ...   \n",
       "mean     -0.633797    -0.641278    -0.522676    -0.637038    -0.462063  ...   \n",
       "std       0.362699     0.385199     0.479899     0.357753     0.523916  ...   \n",
       "min      -0.998955    -0.999417    -0.999914    -0.998899    -0.952357  ...   \n",
       "25%      -0.976122    -0.992333    -0.974131    -0.975352    -0.934447  ...   \n",
       "50%      -0.827534    -0.937664    -0.799907    -0.817005    -0.852659  ...   \n",
       "75%      -0.311432    -0.321719    -0.133488    -0.322771    -0.009965  ...   \n",
       "max       0.489703     0.439657     1.000000     0.427958     0.786436  ...   \n",
       "\n",
       "               551          552          553          554          555  \\\n",
       "count  2947.000000  2947.000000  2947.000000  2947.000000  2947.000000   \n",
       "mean      0.130236    -0.277593    -0.598756     0.005264     0.003799   \n",
       "std       0.231018     0.317245     0.311042     0.336147     0.445077   \n",
       "min      -0.785543    -1.000000    -1.000000    -1.000000    -0.993402   \n",
       "25%      -0.008433    -0.517494    -0.829593    -0.130541    -0.282600   \n",
       "50%       0.142676    -0.311023    -0.683672     0.005188     0.006767   \n",
       "75%       0.288320    -0.083559    -0.458332     0.146200     0.288113   \n",
       "max       1.000000     1.000000     1.000000     0.998898     0.986347   \n",
       "\n",
       "               556          557          558          559          560  \n",
       "count  2947.000000  2947.000000  2947.000000  2947.000000  2947.000000  \n",
       "mean      0.040029    -0.017298    -0.513923     0.074886    -0.048720  \n",
       "std       0.634989     0.501311     0.509205     0.324300     0.241467  \n",
       "min      -0.998898    -0.991096    -0.984195    -0.913704    -0.949228  \n",
       "25%      -0.518924    -0.428375    -0.829722     0.022140    -0.098485  \n",
       "50%       0.047113    -0.026726    -0.729648     0.181563    -0.010671  \n",
       "75%       0.622151     0.394387    -0.545939     0.260252     0.092373  \n",
       "max       1.000000     1.000000     0.833180     1.000000     0.973113  \n",
       "\n",
       "[8 rows x 561 columns]"
      ]
     },
<<<<<<< HEAD
     "execution_count": 7,
=======
     "execution_count": 13,
>>>>>>> e8777ce917cacbbdfeac94ee77f532f514953fee
     "metadata": {},
     "output_type": "execute_result"
    }
   ],
   "source": [
    "print(\"Describe Feature Engineered x_test:\")\n",
    "DataFrame(x_test_fe).describe()"
   ]
  },
  {
   "cell_type": "code",
<<<<<<< HEAD
   "execution_count": 8,
=======
   "execution_count": 14,
>>>>>>> e8777ce917cacbbdfeac94ee77f532f514953fee
   "metadata": {
    "scrolled": true
   },
   "outputs": [
    {
     "name": "stdout",
     "output_type": "stream",
     "text": [
      "Describe Raw x_test:\n"
     ]
    },
    {
     "data": {
      "text/html": [
       "<div>\n",
       "<style scoped>\n",
       "    .dataframe tbody tr th:only-of-type {\n",
       "        vertical-align: middle;\n",
       "    }\n",
       "\n",
       "    .dataframe tbody tr th {\n",
       "        vertical-align: top;\n",
       "    }\n",
       "\n",
       "    .dataframe thead th {\n",
       "        text-align: right;\n",
       "    }\n",
       "</style>\n",
       "<table border=\"1\" class=\"dataframe\">\n",
       "  <thead>\n",
       "    <tr style=\"text-align: right;\">\n",
       "      <th></th>\n",
       "      <th>0</th>\n",
       "      <th>1</th>\n",
       "      <th>2</th>\n",
       "      <th>3</th>\n",
       "      <th>4</th>\n",
       "      <th>5</th>\n",
       "      <th>6</th>\n",
       "      <th>7</th>\n",
       "      <th>8</th>\n",
       "      <th>9</th>\n",
       "      <th>...</th>\n",
       "      <th>1142</th>\n",
       "      <th>1143</th>\n",
       "      <th>1144</th>\n",
       "      <th>1145</th>\n",
       "      <th>1146</th>\n",
       "      <th>1147</th>\n",
       "      <th>1148</th>\n",
       "      <th>1149</th>\n",
       "      <th>1150</th>\n",
       "      <th>1151</th>\n",
       "    </tr>\n",
       "  </thead>\n",
       "  <tbody>\n",
       "    <tr>\n",
       "      <th>count</th>\n",
       "      <td>2947.000000</td>\n",
       "      <td>2947.000000</td>\n",
       "      <td>2947.000000</td>\n",
       "      <td>2947.000000</td>\n",
       "      <td>2947.000000</td>\n",
       "      <td>2947.000000</td>\n",
       "      <td>2947.000000</td>\n",
       "      <td>2947.000000</td>\n",
       "      <td>2947.000000</td>\n",
       "      <td>2947.000000</td>\n",
       "      <td>...</td>\n",
       "      <td>2947.000000</td>\n",
       "      <td>2947.000000</td>\n",
       "      <td>2947.000000</td>\n",
       "      <td>2947.000000</td>\n",
       "      <td>2947.000000</td>\n",
       "      <td>2947.000000</td>\n",
       "      <td>2947.000000</td>\n",
       "      <td>2947.000000</td>\n",
       "      <td>2947.000000</td>\n",
       "      <td>2947.000000</td>\n",
       "    </tr>\n",
       "    <tr>\n",
       "      <th>mean</th>\n",
       "      <td>0.814318</td>\n",
       "      <td>0.005890</td>\n",
       "      <td>0.079570</td>\n",
       "      <td>-0.006010</td>\n",
       "      <td>0.002069</td>\n",
       "      <td>-0.000035</td>\n",
       "      <td>-0.022174</td>\n",
       "      <td>0.005763</td>\n",
       "      <td>0.006299</td>\n",
       "      <td>0.814134</td>\n",
       "      <td>...</td>\n",
       "      <td>0.006664</td>\n",
       "      <td>0.815649</td>\n",
       "      <td>0.002063</td>\n",
       "      <td>0.076800</td>\n",
       "      <td>-0.001101</td>\n",
       "      <td>-0.002393</td>\n",
       "      <td>-0.003909</td>\n",
       "      <td>0.000880</td>\n",
       "      <td>-0.002564</td>\n",
       "      <td>0.003834</td>\n",
       "    </tr>\n",
       "    <tr>\n",
       "      <th>std</th>\n",
       "      <td>0.401726</td>\n",
       "      <td>0.410387</td>\n",
       "      <td>0.306838</td>\n",
       "      <td>0.179975</td>\n",
       "      <td>0.122536</td>\n",
       "      <td>0.096707</td>\n",
       "      <td>0.411938</td>\n",
       "      <td>0.338274</td>\n",
       "      <td>0.249661</td>\n",
       "      <td>0.401591</td>\n",
       "      <td>...</td>\n",
       "      <td>0.247320</td>\n",
       "      <td>0.405799</td>\n",
       "      <td>0.413539</td>\n",
       "      <td>0.311484</td>\n",
       "      <td>0.182166</td>\n",
       "      <td>0.118690</td>\n",
       "      <td>0.095463</td>\n",
       "      <td>0.418575</td>\n",
       "      <td>0.331976</td>\n",
       "      <td>0.244056</td>\n",
       "    </tr>\n",
       "    <tr>\n",
       "      <th>min</th>\n",
       "      <td>-0.245473</td>\n",
       "      <td>-1.112589</td>\n",
       "      <td>-1.015800</td>\n",
       "      <td>-0.756142</td>\n",
       "      <td>-0.832132</td>\n",
       "      <td>-0.655501</td>\n",
       "      <td>-2.352782</td>\n",
       "      <td>-2.528342</td>\n",
       "      <td>-1.862215</td>\n",
       "      <td>-0.245913</td>\n",
       "      <td>...</td>\n",
       "      <td>-1.771897</td>\n",
       "      <td>-0.244237</td>\n",
       "      <td>-1.005888</td>\n",
       "      <td>-1.106173</td>\n",
       "      <td>-0.639273</td>\n",
       "      <td>-0.825868</td>\n",
       "      <td>-0.637227</td>\n",
       "      <td>-2.946578</td>\n",
       "      <td>-1.917106</td>\n",
       "      <td>-2.116511</td>\n",
       "    </tr>\n",
       "    <tr>\n",
       "      <th>25%</th>\n",
       "      <td>0.718966</td>\n",
       "      <td>-0.223227</td>\n",
       "      <td>-0.091864</td>\n",
       "      <td>-0.055157</td>\n",
       "      <td>-0.012583</td>\n",
       "      <td>-0.019014</td>\n",
       "      <td>-0.099014</td>\n",
       "      <td>-0.070310</td>\n",
       "      <td>-0.034640</td>\n",
       "      <td>0.720601</td>\n",
       "      <td>...</td>\n",
       "      <td>-0.022661</td>\n",
       "      <td>0.718473</td>\n",
       "      <td>-0.239130</td>\n",
       "      <td>-0.093099</td>\n",
       "      <td>-0.042880</td>\n",
       "      <td>-0.011327</td>\n",
       "      <td>-0.017765</td>\n",
       "      <td>-0.051193</td>\n",
       "      <td>-0.059340</td>\n",
       "      <td>-0.021817</td>\n",
       "    </tr>\n",
       "    <tr>\n",
       "      <th>50%</th>\n",
       "      <td>0.955635</td>\n",
       "      <td>-0.079844</td>\n",
       "      <td>0.041105</td>\n",
       "      <td>-0.001285</td>\n",
       "      <td>0.001453</td>\n",
       "      <td>0.000064</td>\n",
       "      <td>-0.001649</td>\n",
       "      <td>-0.000707</td>\n",
       "      <td>0.001479</td>\n",
       "      <td>0.958288</td>\n",
       "      <td>...</td>\n",
       "      <td>0.001224</td>\n",
       "      <td>0.957891</td>\n",
       "      <td>-0.087373</td>\n",
       "      <td>0.042558</td>\n",
       "      <td>-0.000981</td>\n",
       "      <td>0.000785</td>\n",
       "      <td>0.000047</td>\n",
       "      <td>-0.000767</td>\n",
       "      <td>-0.000756</td>\n",
       "      <td>0.001584</td>\n",
       "    </tr>\n",
       "    <tr>\n",
       "      <th>75%</th>\n",
       "      <td>1.019784</td>\n",
       "      <td>0.134872</td>\n",
       "      <td>0.198927</td>\n",
       "      <td>0.007039</td>\n",
       "      <td>0.037252</td>\n",
       "      <td>0.019670</td>\n",
       "      <td>0.062376</td>\n",
       "      <td>0.054005</td>\n",
       "      <td>0.070470</td>\n",
       "      <td>1.019409</td>\n",
       "      <td>...</td>\n",
       "      <td>0.047312</td>\n",
       "      <td>1.019713</td>\n",
       "      <td>0.139899</td>\n",
       "      <td>0.199418</td>\n",
       "      <td>0.006215</td>\n",
       "      <td>0.021300</td>\n",
       "      <td>0.014149</td>\n",
       "      <td>0.054556</td>\n",
       "      <td>0.037908</td>\n",
       "      <td>0.047773</td>\n",
       "    </tr>\n",
       "    <tr>\n",
       "      <th>max</th>\n",
       "      <td>1.964238</td>\n",
       "      <td>1.090686</td>\n",
       "      <td>0.975834</td>\n",
       "      <td>1.071047</td>\n",
       "      <td>0.600451</td>\n",
       "      <td>0.687682</td>\n",
       "      <td>1.862086</td>\n",
       "      <td>2.444461</td>\n",
       "      <td>1.786059</td>\n",
       "      <td>2.055219</td>\n",
       "      <td>...</td>\n",
       "      <td>1.327573</td>\n",
       "      <td>2.018431</td>\n",
       "      <td>1.026405</td>\n",
       "      <td>0.980211</td>\n",
       "      <td>1.053488</td>\n",
       "      <td>0.443897</td>\n",
       "      <td>0.482820</td>\n",
       "      <td>3.293090</td>\n",
       "      <td>2.369893</td>\n",
       "      <td>1.312065</td>\n",
       "    </tr>\n",
       "  </tbody>\n",
       "</table>\n",
       "<p>8 rows × 1152 columns</p>\n",
       "</div>"
      ],
      "text/plain": [
       "              0            1            2            3            4     \\\n",
       "count  2947.000000  2947.000000  2947.000000  2947.000000  2947.000000   \n",
       "mean      0.814318     0.005890     0.079570    -0.006010     0.002069   \n",
       "std       0.401726     0.410387     0.306838     0.179975     0.122536   \n",
       "min      -0.245473    -1.112589    -1.015800    -0.756142    -0.832132   \n",
       "25%       0.718966    -0.223227    -0.091864    -0.055157    -0.012583   \n",
       "50%       0.955635    -0.079844     0.041105    -0.001285     0.001453   \n",
       "75%       1.019784     0.134872     0.198927     0.007039     0.037252   \n",
       "max       1.964238     1.090686     0.975834     1.071047     0.600451   \n",
       "\n",
       "              5            6            7            8            9     ...  \\\n",
       "count  2947.000000  2947.000000  2947.000000  2947.000000  2947.000000  ...   \n",
       "mean     -0.000035    -0.022174     0.005763     0.006299     0.814134  ...   \n",
       "std       0.096707     0.411938     0.338274     0.249661     0.401591  ...   \n",
       "min      -0.655501    -2.352782    -2.528342    -1.862215    -0.245913  ...   \n",
       "25%      -0.019014    -0.099014    -0.070310    -0.034640     0.720601  ...   \n",
       "50%       0.000064    -0.001649    -0.000707     0.001479     0.958288  ...   \n",
       "75%       0.019670     0.062376     0.054005     0.070470     1.019409  ...   \n",
       "max       0.687682     1.862086     2.444461     1.786059     2.055219  ...   \n",
       "\n",
       "              1142         1143         1144         1145         1146  \\\n",
       "count  2947.000000  2947.000000  2947.000000  2947.000000  2947.000000   \n",
       "mean      0.006664     0.815649     0.002063     0.076800    -0.001101   \n",
       "std       0.247320     0.405799     0.413539     0.311484     0.182166   \n",
       "min      -1.771897    -0.244237    -1.005888    -1.106173    -0.639273   \n",
       "25%      -0.022661     0.718473    -0.239130    -0.093099    -0.042880   \n",
       "50%       0.001224     0.957891    -0.087373     0.042558    -0.000981   \n",
       "75%       0.047312     1.019713     0.139899     0.199418     0.006215   \n",
       "max       1.327573     2.018431     1.026405     0.980211     1.053488   \n",
       "\n",
       "              1147         1148         1149         1150         1151  \n",
       "count  2947.000000  2947.000000  2947.000000  2947.000000  2947.000000  \n",
       "mean     -0.002393    -0.003909     0.000880    -0.002564     0.003834  \n",
       "std       0.118690     0.095463     0.418575     0.331976     0.244056  \n",
       "min      -0.825868    -0.637227    -2.946578    -1.917106    -2.116511  \n",
       "25%      -0.011327    -0.017765    -0.051193    -0.059340    -0.021817  \n",
       "50%       0.000785     0.000047    -0.000767    -0.000756     0.001584  \n",
       "75%       0.021300     0.014149     0.054556     0.037908     0.047773  \n",
       "max       0.443897     0.482820     3.293090     2.369893     1.312065  \n",
       "\n",
       "[8 rows x 1152 columns]"
      ]
     },
<<<<<<< HEAD
     "execution_count": 8,
=======
     "execution_count": 14,
>>>>>>> e8777ce917cacbbdfeac94ee77f532f514953fee
     "metadata": {},
     "output_type": "execute_result"
    }
   ],
   "source": [
    "print(\"Describe Raw x_test:\")\n",
    "DataFrame(x_test_raw).describe()"
   ]
  },
  {
   "cell_type": "markdown",
   "metadata": {},
   "source": [
<<<<<<< HEAD
    "# All the plots "
=======
    "### Plotting the data"
>>>>>>> e8777ce917cacbbdfeac94ee77f532f514953fee
   ]
  },
  {
   "cell_type": "code",
<<<<<<< HEAD
   "execution_count": 9,
=======
   "execution_count": 15,
>>>>>>> e8777ce917cacbbdfeac94ee77f532f514953fee
   "metadata": {},
   "outputs": [
    {
     "name": "stdout",
     "output_type": "stream",
     "text": [
      "(7352, 128, 9) (7352, 1)\n"
     ]
    }
   ],
   "source": [
<<<<<<< HEAD
    "# load a single file as a numpy array\n",
    "def load_file(filepath):\n",
    "    df = read_csv(filepath, delim_whitespace=True)\n",
    "    return df.values\n",
    "\n",
    "# load a list of files\n",
    "def load_group(filenames, prefix=''):\n",
    "    loaded = list()\n",
    "    for name in filenames:\n",
    "        data = load_file(prefix + name)\n",
    "        loaded.append(data)\n",
    "    # stack group so that features are the 3rd dimension\n",
    "    loaded = dstack(loaded)\n",
    "    return loaded\n",
    "\n",
    "# load a dataset group\n",
    "def load_dataset(group, prefix=''):\n",
    "    filepath = prefix + group + '/Inertial Signals/'\n",
    "    filenames = list()\n",
    "    \n",
    "    # total acceleration\n",
    "    filenames += ['total_acc_x_' + group + '.txt', 'total_acc_y_' + group + '.txt', 'total_acc_z_' + group + '.txt']\n",
    "    # body acceleration\n",
    "    filenames += ['body_acc_x_' + group + '.txt', 'body_acc_y_' + group + '.txt', 'body_acc_z_' + group + '.txt']\n",
    "    # body gyroscope\n",
    "    filenames += ['body_gyro_x_' + group + '.txt', 'body_gyro_y_' + group + '.txt', 'body_gyro_z_' + group + '.txt']\n",
    "    \n",
    "    # load input data\n",
    "    X = load_group(filenames, filepath)\n",
    "    # load class output\n",
    "    y = load_file(prefix + group + '/y_' + group + '.txt')\n",
    "    \n",
    "    return X, y\n",
    "\n",
    "# all data for one subject\n",
=======
    "# get all data for one subject\n",
>>>>>>> e8777ce917cacbbdfeac94ee77f532f514953fee
    "def data_for_subject(X, y, subject_map, subject_id):\n",
    "    # get row indexes for the subject id\n",
    "    rowIndex = [i for i in range(len(subject_map)) if subject_map[i]==subject_id]\n",
    "    # return the selected samples\n",
    "    return X[rowIndex, :, :], y[rowIndex]\n",
    "\n",
    "# convert a series of windows to a 1D list\n",
    "def to_series(windows):\n",
    "    series = list()\n",
    "    for window in windows:\n",
    "        # remove the overlap from the window\n",
    "        half = int(len(window) / 2) - 1\n",
    "        for value in window[-half:]:\n",
    "            series.append(value)\n",
    "    return series\n",
    "\n",
    "## plot histograms per activity for a subject\n",
    "# group data by activity\n",
    "def data_by_activity(X, y, activities):\n",
    "    # group windows by activity\n",
    "    return {a:X[y[:,0]==a, :, :] for a in activities}\n",
    "\n",
<<<<<<< HEAD
    "\n",
    "##load training dataset\n",
    "X, y = load_dataset('train', 'HARDataset/')\n",
    "# load mapping of rows to subjects\n",
    "subject_map = load_file('HARDataset/train/subject_train.txt')"
=======
    "subject_file = read_csv('HARDataset/train/subject_train.txt', delim_whitespace=True)\n",
    "subject_map = subject_file.values\n",
    "\n",
    "print(X.shape, y.shape)\n"
>>>>>>> e8777ce917cacbbdfeac94ee77f532f514953fee
   ]
  },
  {
   "cell_type": "code",
<<<<<<< HEAD
   "execution_count": 10,
   "metadata": {},
   "outputs": [
    {
     "name": "stderr",
     "output_type": "stream",
     "text": [
      "<ipython-input-10-642f94e83cf0>:15: MatplotlibDeprecationWarning: Adding an axes using the same arguments as a previous axes currently reuses the earlier instance.  In a future version, a new instance will always be created and returned.  Meanwhile, this warning can be suppressed, and the future behavior ensured, by passing a unique label to each axes instance.\n",
      "  axes_subplot = plt.subplot(n, 1, i+1, sharex=x_axis)\n"
     ]
    },
    {
     "data": {
      "image/png": "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\n",
=======
   "execution_count": 24,
   "metadata": {},
   "outputs": [
    {
     "data": {
      "image/png": "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\n",
>>>>>>> e8777ce917cacbbdfeac94ee77f532f514953fee
      "text/plain": [
       "<Figure size 936x720 with 10 Axes>"
      ]
     },
     "metadata": {
      "needs_background": "light"
     },
     "output_type": "display_data"
    }
   ],
   "source": [
    "# plot histograms for multiple subjects\n",
    "# for total acceleration data\n",
    "def plot_subject_histograms(X, y, sub_map, n=10):\n",
    "    plt.figure(figsize=(13, 10))\n",
    "    # get unique subjects\n",
    "    subjects = unique(sub_map[:,0])\n",
    "    # enumerate subjects\n",
    "    x_axis = None\n",
    "    for i in range(n):\n",
    "        subject_id = subjects[i]\n",
    "        # get data for one subject\n",
    "        subjectData, _ = data_for_subject(X, y, sub_map, subject_id)\n",
    "        # total acc\n",
    "        for j in range(3):\n",
    "            axes_subplot = plt.subplot(n, 1, i+1, sharex=x_axis)\n",
    "            axes_subplot.set_xlim(-1,1)\n",
    "            if i == 0:\n",
    "                 x_axis = axes_subplot\n",
    "            plt.hist(to_series(subjectData[:,:,j]), bins=100)\n",
    "    plt.show()\n",
    "\n",
<<<<<<< HEAD
=======
    "warnings.filterwarnings('ignore')    \n",
>>>>>>> e8777ce917cacbbdfeac94ee77f532f514953fee
    "# plot histograms for subjects\n",
    "plot_subject_histograms(X, y, subject_map)"
   ]
  },
  {
   "cell_type": "code",
<<<<<<< HEAD
   "execution_count": 11,
   "metadata": {},
   "outputs": [
    {
     "name": "stderr",
     "output_type": "stream",
     "text": [
      "<ipython-input-11-b4b87d11b9d8>:15: MatplotlibDeprecationWarning: Adding an axes using the same arguments as a previous axes currently reuses the earlier instance.  In a future version, a new instance will always be created and returned.  Meanwhile, this warning can be suppressed, and the future behavior ensured, by passing a unique label to each axes instance.\n",
      "  axes_subplot = plt.subplot(n, 1, i+1, sharex=x_axis)\n"
     ]
    },
    {
     "data": {
      "image/png": "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\n",
=======
   "execution_count": 25,
   "metadata": {},
   "outputs": [
    {
     "data": {
      "image/png": "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\n",
>>>>>>> e8777ce917cacbbdfeac94ee77f532f514953fee
      "text/plain": [
       "<Figure size 936x720 with 10 Axes>"
      ]
     },
     "metadata": {
      "needs_background": "light"
     },
     "output_type": "display_data"
    }
   ],
   "source": [
    "# plot histograms for multiple subjects\n",
    "# for body acceleration data\n",
    "def plot_subject_histograms(X, y, sub_map, n=10):\n",
    "    plt.figure(figsize=(13,10))\n",
    "    # get unique subjects\n",
    "    subjects = unique(sub_map[:,0])\n",
    "    # enumerate subjects\n",
    "    x_axis = None\n",
    "    for i in range(n):\n",
    "        subject_id = subjects[i]\n",
    "        # get data for one subject\n",
    "        subjectData, _ = data_for_subject(X, y, sub_map, subject_id)\n",
    "        # body acc\n",
    "        for j in range(3):\n",
    "            axes_subplot = plt.subplot(n, 1, i+1, sharex=x_axis)\n",
    "            axes_subplot.set_xlim(-1,1)\n",
    "            if i == 0:\n",
    "                x_axis = axes_subplot\n",
    "            plt.hist(to_series(subjectData[:,:,3+j]), bins=100)\n",
    "    plt.show()\n",
    "\n",
<<<<<<< HEAD
=======
    "warnings.filterwarnings('ignore')\n",
>>>>>>> e8777ce917cacbbdfeac94ee77f532f514953fee
    "# plot histograms for subjects\n",
    "plot_subject_histograms(X, y, subject_map)"
   ]
  },
  {
   "cell_type": "code",
<<<<<<< HEAD
   "execution_count": 12,
   "metadata": {},
   "outputs": [
    {
     "name": "stderr",
     "output_type": "stream",
     "text": [
      "<ipython-input-12-5db8aa469b2f>:15: MatplotlibDeprecationWarning: Adding an axes using the same arguments as a previous axes currently reuses the earlier instance.  In a future version, a new instance will always be created and returned.  Meanwhile, this warning can be suppressed, and the future behavior ensured, by passing a unique label to each axes instance.\n",
      "  axes_subplot = plt.subplot(n, 1, i+1, sharex=x_axis)\n"
     ]
    },
    {
     "data": {
      "image/png": "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\n",
=======
   "execution_count": 26,
   "metadata": {},
   "outputs": [
    {
     "data": {
      "image/png": "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\n",
>>>>>>> e8777ce917cacbbdfeac94ee77f532f514953fee
      "text/plain": [
       "<Figure size 936x720 with 10 Axes>"
      ]
     },
     "metadata": {
      "needs_background": "light"
     },
     "output_type": "display_data"
    }
   ],
   "source": [
    "# plot histograms for multiple subjects\n",
    "# for gyroscopic data\n",
    "def plot_subject_histograms(X, y, sub_map, n=10):\n",
    "    plt.figure(figsize=(13,10))\n",
    "    # get unique subjects\n",
    "    subjects = unique(sub_map[:,0])\n",
    "    # enumerate subjects\n",
    "    x_axis = None\n",
    "    for i in range(n):\n",
    "        subject_id = subjects[i]\n",
    "        # get data for one subject\n",
    "        subjectData, _ = data_for_subject(X, y, sub_map, subject_id)\n",
    "        # body acc\n",
    "        for j in range(3):\n",
    "            axes_subplot = plt.subplot(n, 1, i+1, sharex=x_axis)\n",
    "            axes_subplot.set_xlim(-1,1)\n",
    "            if i == 0:\n",
    "                x_axis = axes_subplot\n",
    "            plt.hist(to_series(subjectData[:,:,6+j]), bins=100)\n",
    "    plt.show()\n",
    "\n",
<<<<<<< HEAD
    "\n",
=======
    "warnings.filterwarnings('ignore')\n",
>>>>>>> e8777ce917cacbbdfeac94ee77f532f514953fee
    "# plot histograms for subjects\n",
    "plot_subject_histograms(X, y, subject_map)"
   ]
  },
  {
   "cell_type": "code",
<<<<<<< HEAD
   "execution_count": 13,
   "metadata": {},
   "outputs": [
    {
     "name": "stderr",
     "output_type": "stream",
     "text": [
      "<ipython-input-13-de82ed4a2ad7>:14: MatplotlibDeprecationWarning: Adding an axes using the same arguments as a previous axes currently reuses the earlier instance.  In a future version, a new instance will always be created and returned.  Meanwhile, this warning can be suppressed, and the future behavior ensured, by passing a unique label to each axes instance.\n",
      "  axes_subplot = plt.subplot(len(activity), 1, i+1, sharex=x_axis)\n"
     ]
    },
    {
     "data": {
      "image/png": "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\n",
=======
   "execution_count": 27,
   "metadata": {},
   "outputs": [
    {
     "data": {
      "image/png": "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\n",
>>>>>>> e8777ce917cacbbdfeac94ee77f532f514953fee
      "text/plain": [
       "<Figure size 936x720 with 6 Axes>"
      ]
     },
     "metadata": {
      "needs_background": "light"
     },
     "output_type": "display_data"
    }
   ],
   "source": [
    "# plot histograms for each activity for a subject\n",
    "# for  total acceleration data\n",
    "def plot_activity_histograms(X, y):\n",
    "    # list of unique activities\n",
    "    activity = unique(y[:,0])\n",
    "    # group by activity\n",
    "    grouped = data_by_activity(X, y, activity)\n",
    "    # plot per activity\n",
    "    plt.figure(figsize=(13,10))\n",
    "    x_axis = None\n",
    "    for i in range(len(activity)):\n",
    "        activity_id = activity[i]\n",
    "        for j in range(3):\n",
    "            axes_subplot = plt.subplot(len(activity), 1, i+1, sharex=x_axis)\n",
    "            axes_subplot.set_xlim(-1,1)\n",
    "            if i == 0:\n",
    "                x_axis = axes_subplot\n",
    "            plt.hist(to_series(grouped[activity_id][:,:,j]), bins=100)\n",
    "            plt.title('activity '+str(activity_id), y=0, loc='left')\n",
    "    plt.show()\n",
    "\n",
<<<<<<< HEAD
=======
    "warnings.filterwarnings('ignore')    \n",
>>>>>>> e8777ce917cacbbdfeac94ee77f532f514953fee
    "train_subjects = unique(subject_map)\n",
    "# get the data for one subject\n",
    "subject_id = train_subjects[0]\n",
    "subjectDataX, subjectDataY = data_for_subject(X, y, subject_map, subject_id)\n",
    "# plot data for subject\n",
    "plot_activity_histograms(subjectDataX, subjectDataY)"
   ]
  },
  {
   "cell_type": "code",
<<<<<<< HEAD
   "execution_count": 14,
   "metadata": {},
   "outputs": [
    {
     "name": "stderr",
     "output_type": "stream",
     "text": [
      "<ipython-input-14-4ba499f17941>:14: MatplotlibDeprecationWarning: Adding an axes using the same arguments as a previous axes currently reuses the earlier instance.  In a future version, a new instance will always be created and returned.  Meanwhile, this warning can be suppressed, and the future behavior ensured, by passing a unique label to each axes instance.\n",
      "  axes_subplot = plt.subplot(len(activity), 1, i+1, sharex=x_axis)\n"
     ]
    },
    {
     "data": {
      "image/png": "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\n",
=======
   "execution_count": 28,
   "metadata": {},
   "outputs": [
    {
     "data": {
      "image/png": "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\n",
>>>>>>> e8777ce917cacbbdfeac94ee77f532f514953fee
      "text/plain": [
       "<Figure size 936x720 with 6 Axes>"
      ]
     },
     "metadata": {
      "needs_background": "light"
     },
     "output_type": "display_data"
    }
   ],
   "source": [
    "# plot histograms for each activity for a subject\n",
    "# for body acceleration data\n",
    "def plot_activity_histograms(X, y):\n",
    "    # list of unique activities\n",
    "    activity = unique(y[:,0])\n",
    "    # group by activity\n",
    "    grouped = data_by_activity(X, y, activity)\n",
    "    # plot per activity\n",
    "    plt.figure(figsize=(13,10))\n",
    "    x_axis = None\n",
    "    for i in range(len(activity)):\n",
    "        activity_id = activity[i]\n",
    "        for j in range(3):\n",
    "            axes_subplot = plt.subplot(len(activity), 1, i+1, sharex=x_axis)\n",
    "            axes_subplot.set_xlim(-1,1)\n",
    "            if i == 0:\n",
    "                x_axis = axes_subplot\n",
    "            plt.hist(to_series(grouped[activity_id][:,:,3+j]), bins=100)\n",
    "            plt.title('activity '+str(activity_id), y=0, loc='left')\n",
    "    plt.show()\n",
    "\n",
<<<<<<< HEAD
=======
    "warnings.filterwarnings('ignore')\n",
>>>>>>> e8777ce917cacbbdfeac94ee77f532f514953fee
    "train_subjects = unique(subject_map)\n",
    "# get the data for one subject\n",
    "subject_id = train_subjects[0]\n",
    "subjectDataX, subjectDataY = data_for_subject(X, y, subject_map, subject_id)\n",
    "# plot data for subject\n",
    "plot_activity_histograms(subjectDataX, subjectDataY)"
   ]
  },
  {
   "cell_type": "code",
<<<<<<< HEAD
   "execution_count": 15,
   "metadata": {},
   "outputs": [
    {
     "name": "stderr",
     "output_type": "stream",
     "text": [
      "<ipython-input-15-e9ad112aaf28>:14: MatplotlibDeprecationWarning: Adding an axes using the same arguments as a previous axes currently reuses the earlier instance.  In a future version, a new instance will always be created and returned.  Meanwhile, this warning can be suppressed, and the future behavior ensured, by passing a unique label to each axes instance.\n",
      "  axes_subplot = plt.subplot(len(activity), 1, i+1, sharex=x_axis)\n"
     ]
    },
    {
     "data": {
      "image/png": "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\n",
=======
   "execution_count": 29,
   "metadata": {},
   "outputs": [
    {
     "data": {
      "image/png": "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\n",
>>>>>>> e8777ce917cacbbdfeac94ee77f532f514953fee
      "text/plain": [
       "<Figure size 936x720 with 6 Axes>"
      ]
     },
     "metadata": {
      "needs_background": "light"
     },
     "output_type": "display_data"
    }
   ],
   "source": [
    "# plot histograms for each activity for a subject\n",
    "# for gyroscopic data\n",
    "def plot_activity_histograms(X, y):\n",
    "    # list of unique activities\n",
    "    activity = unique(y[:,0])\n",
    "    # group by activity\n",
    "    grouped = data_by_activity(X, y, activity)\n",
    "    # plot per activity\n",
    "    plt.figure(figsize=(13,10))\n",
    "    x_axis = None\n",
    "    for i in range(len(activity)):\n",
    "        activity_id = activity[i]\n",
    "        for j in range(3):\n",
    "            axes_subplot = plt.subplot(len(activity), 1, i+1, sharex=x_axis)\n",
    "            axes_subplot.set_xlim(-1,1)\n",
    "            if i == 0:\n",
    "                x_axis = axes_subplot\n",
    "            plt.hist(to_series(grouped[activity_id][:,:,6+j]), bins=100)\n",
    "            plt.title('activity '+str(activity_id), y=0, loc='left')\n",
<<<<<<< HEAD
    "    plt.show()\n",
    "\n",
=======
    "    plt.show()    \n",
    "\n",
    "warnings.filterwarnings('ignore')\n",
>>>>>>> e8777ce917cacbbdfeac94ee77f532f514953fee
    "train_subjects = unique(subject_map)\n",
    "# get the data for one subject\n",
    "subject_id = train_subjects[0]\n",
    "subjectDataX, subjectDataY = data_for_subject(X, y, subject_map, subject_id)\n",
    "# plot data for subject\n",
    "plot_activity_histograms(subjectDataX, subjectDataY)"
<<<<<<< HEAD
=======
   ]
  },
  {
   "cell_type": "markdown",
   "metadata": {},
   "source": [
    "### Model hyperparameter tuning using k-fold cross-validation"
>>>>>>> e8777ce917cacbbdfeac94ee77f532f514953fee
   ]
  },
  {
   "cell_type": "code",
   "execution_count": 29,
   "metadata": {},
   "outputs": [
    {
     "name": "stdout",
     "output_type": "stream",
     "text": [
      "Fitting 5 folds for each of 56 candidates, totalling 280 fits\n"
     ]
    },
    {
     "name": "stderr",
     "output_type": "stream",
     "text": [
      "[Parallel(n_jobs=-1)]: Using backend LokyBackend with 8 concurrent workers.\n",
      "[Parallel(n_jobs=-1)]: Done  16 tasks      | elapsed:   19.8s\n",
      "[Parallel(n_jobs=-1)]: Done 112 tasks      | elapsed:  2.4min\n",
      "[Parallel(n_jobs=-1)]: Done 280 out of 280 | elapsed:  6.1min finished\n"
     ]
    },
    {
     "name": "stdout",
     "output_type": "stream",
     "text": [
      "Best Score: 0.909416\n",
      "Optimal Hyperparameter Values:  {'n_neighbors': 13, 'p': 1, 'weights': 'distance'}\n",
      "\n",
      "\n",
      "CPU times: user 990 ms, sys: 206 ms, total: 1.2 s\n",
      "Wall time: 6min 7s\n"
     ]
    }
   ],
   "source": [
    "%%time\n",
    "## KNN Hyperparameter Tuning\n",
    "\n",
    "warnings.filterwarnings('ignore')\n",
    "\n",
    "# The param_grid tells Scikit-Learn to evaluate all combinations of the hyperparameter values\n",
    "param_grid = {'n_neighbors': np.arange(1,15), 'p': [1, 2], \n",
    "              'weights': [\"uniform\", \"distance\"]}\n",
    "\n",
    "knn_clf = KNeighborsClassifier()\n",
    "\n",
    "knn_cv = GridSearchCV(knn_clf, param_grid, scoring='f1_micro', cv=5, verbose=3, n_jobs=-1)\n",
    "knn_cv.fit(x_train_fe, y_train_fe)\n",
    "\n",
    "\n",
    "params_optimal_knn = knn_cv.best_params_\n",
    "\n",
    "print(\"Best Score: %f\" % knn_cv.best_score_)\n",
    "print(\"Optimal Hyperparameter Values: \", params_optimal_knn)\n",
    "print(\"\\n\")"
   ]
  },
  {
   "cell_type": "code",
   "execution_count": 126,
   "metadata": {},
   "outputs": [
    {
     "name": "stdout",
     "output_type": "stream",
     "text": [
      "Fitting 5 folds for each of 288 candidates, totalling 1440 fits\n"
     ]
    },
    {
     "name": "stderr",
     "output_type": "stream",
     "text": [
      "[Parallel(n_jobs=-1)]: Using backend LokyBackend with 8 concurrent workers.\n",
      "[Parallel(n_jobs=-1)]: Done  16 tasks      | elapsed:   14.8s\n",
      "[Parallel(n_jobs=-1)]: Done 112 tasks      | elapsed:   54.0s\n",
      "[Parallel(n_jobs=-1)]: Done 272 tasks      | elapsed:  1.5min\n",
      "[Parallel(n_jobs=-1)]: Done 496 tasks      | elapsed:  2.5min\n",
      "[Parallel(n_jobs=-1)]: Done 784 tasks      | elapsed:  5.1min\n",
      "[Parallel(n_jobs=-1)]: Done 1136 tasks      | elapsed:  8.0min\n",
      "[Parallel(n_jobs=-1)]: Done 1440 out of 1440 | elapsed: 10.9min finished\n"
     ]
    },
    {
     "name": "stdout",
     "output_type": "stream",
     "text": [
      "Best Score: 0.874323\n",
      "Optimal Hyperparameter Values:  {'criterion': 'entropy', 'max_depth': 5, 'max_leaf_nodes': None, 'min_samples_leaf': 1, 'min_samples_split': 10}\n",
      "\n",
      "\n"
     ]
    }
   ],
   "source": [
    "## Decision Tree Classifier Hyperparameter Tuning\n",
    "\n",
    "param_grid = {\"criterion\": [\"gini\", \"entropy\"],\n",
    "              \"min_samples_split\": [2, 10, 20],\n",
    "              \"max_depth\": [None, 2, 5, 10],\n",
    "              \"min_samples_leaf\": [1, 5, 10],\n",
    "              \"max_leaf_nodes\": [None, 5, 10, 20],\n",
    "              }\n",
    "\n",
    "dt_clf = DecisionTreeClassifier()\n",
    "\n",
    "dt_cv = GridSearchCV(dt_clf, param_grid, scoring='f1_micro', cv=5, verbose=3, n_jobs=-1)\n",
    "dt_cv.fit(x_train_fe, y_train_fe)\n",
    "\n",
    "params_optimal_dt = dt_cv.best_params_\n",
    "\n",
    "print(\"Best Score: %f\" % dt_cv.best_score_)\n",
    "print(\"Optimal Hyperparameter Values: \", params_optimal_dt)\n",
    "print(\"\\n\")\n",
    "\n",
    "\n"
   ]
  },
  {
   "cell_type": "code",
   "execution_count": 146,
   "metadata": {},
   "outputs": [
    {
     "name": "stdout",
     "output_type": "stream",
     "text": [
      "Fitting 5 folds for each of 36 candidates, totalling 180 fits\n"
     ]
    },
    {
     "name": "stderr",
     "output_type": "stream",
     "text": [
      "[Parallel(n_jobs=-1)]: Using backend LokyBackend with 8 concurrent workers.\n",
      "[Parallel(n_jobs=-1)]: Done  16 tasks      | elapsed:   21.0s\n",
      "[Parallel(n_jobs=-1)]: Done 112 tasks      | elapsed:  1.5min\n",
      "[Parallel(n_jobs=-1)]: Done 180 out of 180 | elapsed:  2.0min finished\n"
     ]
    },
    {
     "name": "stdout",
     "output_type": "stream",
     "text": [
      "Best Score: 0.874323\n",
      "Optimal Hyperparameter Values:  {'C': 100, 'decision_function_shape': 'ovo', 'kernel': 'rbf'}\n",
      "\n",
      "\n"
     ]
    }
   ],
   "source": [
    "## SVC Hyperparameter Tuning\n",
    "\n",
    "param_grid = {'C': [0.1, 1, 10, 100, 1000, 10000],\n",
    "              'kernel': ['linear', 'poly', 'rbf'],\n",
    "              'decision_function_shape' : ['ovo', 'ovr']}\n",
    "\n",
    "svc_clf = SVC()\n",
    "\n",
    "svc_cv = GridSearchCV(svc_clf, param_grid, scoring='f1_micro', cv=5, verbose=3, n_jobs=-1)\n",
    "svc_cv.fit(x_train_fe, y_train_fe)\n",
    "\n",
    "params_optimal_svc = svc_cv.best_params_\n",
    "\n",
    "print(\"Best Score: %f\" % dt_cv.best_score_)\n",
    "print(\"Optimal Hyperparameter Values: \", params_optimal_svc)\n",
    "print(\"\\n\")\n"
   ]
  },
  {
   "cell_type": "markdown",
   "metadata": {},
   "source": [
    "### Evaluation through implementation of different models"
   ]
  },
  {
   "cell_type": "code",
<<<<<<< HEAD
   "execution_count": 16,
=======
   "execution_count": 149,
>>>>>>> e8777ce917cacbbdfeac94ee77f532f514953fee
   "metadata": {},
   "outputs": [
    {
     "name": "stdout",
     "output_type": "stream",
     "text": [
<<<<<<< HEAD
      "{'knn': KNeighborsClassifier(), 'dtc': DecisionTreeClassifier(), 'svm': SVC(), 'bayes': GaussianNB()}\n"
=======
      "{'knn': KNeighborsClassifier(n_neighbors=7, p=1, weights='distance'), 'dtc': DecisionTreeClassifier(criterion='entropy', max_depth=5, min_samples_split=10), 'svm': SVC(C=100, decision_function_shape='ovo'), 'bayes': GaussianNB()}\n"
>>>>>>> e8777ce917cacbbdfeac94ee77f532f514953fee
     ]
    }
   ],
   "source": [
    "# A dictionary that will contain all the models that are to be evaluated\n",
    "\n",
    "model_dict = {\n",
    "    \"knn\" : KNeighborsClassifier(n_neighbors=7, p=1, weights = 'distance'),\n",
    "    \"dtc\" : DecisionTreeClassifier(criterion='entropy', max_depth=5, \n",
    "            max_leaf_nodes=None, min_samples_leaf=1, \n",
    "            min_samples_split=10),\n",
    "    \"svm\" : SVC(C=100, decision_function_shape='ovo', kernel='rbf'),\n",
    "    \"bayes\" : GaussianNB()\n",
    "}\n",
    "\n",
    "print(model_dict)\n",
    "\n",
    "# Optimal Hyperparameter Values:  \n",
    "# KNN : {'n_neighbors': 13, 'p': 1, 'weights': 'distance'}\n",
    "# DTC : {'criterion': 'entropy', 'max_depth': 5, \n",
    "#        'max_leaf_nodes': None, 'min_samples_leaf': 1, \n",
    "#        'min_samples_split': 10}\n",
    "# SVM: {'C': 100, 'decision_function_shape': 'ovo', 'kernel': 'rbf'}"
   ]
  },
  {
   "cell_type": "code",
<<<<<<< HEAD
   "execution_count": 17,
=======
   "execution_count": 150,
>>>>>>> e8777ce917cacbbdfeac94ee77f532f514953fee
   "metadata": {},
   "outputs": [],
   "source": [
    "## Evaluating the dictionary of models\n",
    "## For Accuracy\n",
    "\n",
    "def model_evaluation_accuracy(x_train, y_train, x_test, y_test, model_dict):\n",
    "    accuracy = dict()\n",
    "    for name, model in model_dict.items():\n",
    "        model.fit(x_train, y_train)\n",
    "        predict = model.predict(x_test)\n",
    "        accuracy[name] = (accuracy_score(y_test, predict))*100.00\n",
    "        print(name,\":\",accuracy[name])\n",
    "    return accuracy\n"
   ]
  },
  {
   "cell_type": "code",
<<<<<<< HEAD
   "execution_count": 18,
   "metadata": {},
   "outputs": [
    {
     "name": "stdout",
     "output_type": "stream",
     "text": [
      "Accuracy using pre-preocessed, feature engineered data: \n",
      "knn : 90.15948422124194\n",
      "dtc : 85.64642008822531\n",
      "svm : 95.04580929759076\n",
      "bayes : 77.02748557855446\n"
     ]
    }
   ],
   "source": [
    "# Evaluation for accuracy using the pre-preocessed, feature engineered data\n",
    "print(\"Accuracy using pre-preocessed, feature engineered data: \")\n",
    "accuracy = model_evaluation(x_train_fe, y_train_fe, x_test_fe, y_test_fe, model_dict)\n"
   ]
  },
  {
   "cell_type": "code",
   "execution_count": 19,
   "metadata": {},
   "outputs": [
    {
     "name": "stdout",
     "output_type": "stream",
     "text": [
      "Accuracy using pre-preocessed raw data: \n",
      "knn : 65.0492025788938\n",
      "dtc : 71.36070580251102\n",
      "svm : 88.73430607397353\n",
      "bayes : 72.48048863250763\n"
     ]
    }
   ],
   "source": [
    "# Evaluation for accuracy using the pre-preocessed raw data\n",
    "print(\"Accuracy using pre-preocessed raw data: \")\n",
    "accuracy = model_evaluation(x_train_raw, y_train_raw, x_test_raw, y_test_raw, model_dict)\n"
   ]
  },
  {
   "cell_type": "code",
   "execution_count": 20,
=======
   "execution_count": 151,
>>>>>>> e8777ce917cacbbdfeac94ee77f532f514953fee
   "metadata": {},
   "outputs": [],
   "source": [
    "## Evaluating the dictionary of models\n",
<<<<<<< HEAD
    "## For F1 scores\n",
    "\n",
    "def model_evaluation_score(x_train, y_train, x_test, y_test, model_dict):\n",
    "    f1_scores = dict()\n",
    "    for name, model in model_dict.items():\n",
    "        model.fit(x_train, y_train)\n",
    "        predict = model.predict(x_test)\n",
    "        f1_scores[name] = f1_score(y_test, predict, average='micro')\n",
    "        print(name,\":\",f1_scores[name])\n",
    "    return f1_scores"
=======
    "## For F1-Score\n",
    "\n",
    "def model_evaluation_f1(x_train, y_train, x_test, y_test, model_dict):\n",
    "    f1 = dict()\n",
    "    for name, model in model_dict.items():\n",
    "        model.fit(x_train, y_train)\n",
    "        predict = model.predict(x_test)\n",
    "        f1[name] = (f1_score(y_test, predict, average='micro'))*100.00\n",
    "        print(name,\":\",f1[name])\n",
    "    return f1"
   ]
  },
  {
   "cell_type": "markdown",
   "metadata": {},
   "source": [
    "### Results"
>>>>>>> e8777ce917cacbbdfeac94ee77f532f514953fee
   ]
  },
  {
   "cell_type": "code",
<<<<<<< HEAD
   "execution_count": 21,
=======
   "execution_count": 152,
>>>>>>> e8777ce917cacbbdfeac94ee77f532f514953fee
   "metadata": {},
   "outputs": [
    {
     "name": "stdout",
     "output_type": "stream",
     "text": [
<<<<<<< HEAD
      "F1_score using pre-preocessed, feature engineered data: \n",
      "knn : 0.9015948422124194\n",
      "dtc : 0.8625721072276892\n",
      "svm : 0.9504580929759077\n",
      "bayes : 0.7702748557855447\n"
=======
      "Accuracy using pre-processed, feature engineered data: \n",
      "knn : 91.27926705123855\n",
      "dtc : 85.4767560230743\n",
      "svm : 96.53885307091959\n",
      "bayes : 77.02748557855446\n",
      "\n",
      "F1-Score using pre-processed, feature engineered data: \n",
      "knn : 91.27926705123855\n",
      "dtc : 85.4767560230743\n",
      "svm : 96.53885307091959\n",
      "bayes : 77.02748557855446\n"
>>>>>>> e8777ce917cacbbdfeac94ee77f532f514953fee
     ]
    }
   ],
   "source": [
<<<<<<< HEAD
    "# Evaluation for f1_score using the pre-preocessed, feature engineered data\n",
    "print(\"F1_score using pre-preocessed, feature engineered data: \")\n",
    "accuracy = model_evaluation_score(x_train_fe, y_train_fe, x_test_fe, y_test_fe, model_dict)"
=======
    "# Evaluation using the pre-preocessed, feature engineered data\n",
    "print(\"Accuracy using pre-processed, feature engineered data: \")\n",
    "accuracy = model_evaluation_accuracy(x_train_fe, y_train_fe, x_test_fe, y_test_fe, model_dict)\n",
    "print()\n",
    "print(\"F1-Score using pre-processed, feature engineered data: \")\n",
    "f1 = model_evaluation_f1(x_train_fe, y_train_fe, x_test_fe, y_test_fe, model_dict)\n"
>>>>>>> e8777ce917cacbbdfeac94ee77f532f514953fee
   ]
  },
  {
   "cell_type": "code",
<<<<<<< HEAD
   "execution_count": 22,
=======
   "execution_count": 153,
>>>>>>> e8777ce917cacbbdfeac94ee77f532f514953fee
   "metadata": {},
   "outputs": [
    {
     "name": "stdout",
     "output_type": "stream",
     "text": [
<<<<<<< HEAD
      "F1_score using pre-preocessed raw data: \n",
      "knn : 0.6504920257889379\n",
      "dtc : 0.7224295894129623\n",
      "svm : 0.8873430607397353\n",
      "bayes : 0.7248048863250763\n"
=======
      "Accuracy using pre-processed raw data: \n",
      "knn : 66.8137088564642\n",
      "dtc : 69.18900576857821\n",
      "svm : 89.98982015609094\n",
      "bayes : 72.48048863250763\n",
      "\n",
      "F1-Score using pre-processed raw data: \n",
      "knn : 66.8137088564642\n",
      "dtc : 69.18900576857821\n",
      "svm : 89.98982015609094\n",
      "bayes : 72.48048863250763\n"
>>>>>>> e8777ce917cacbbdfeac94ee77f532f514953fee
     ]
    }
   ],
   "source": [
<<<<<<< HEAD
    "# Evaluation for f1_score using the pre-preocessed raw data\n",
    "print(\"F1_score using pre-preocessed raw data: \")\n",
    "accuracy = model_evaluation_score(x_train_raw, y_train_raw, x_test_raw, y_test_raw, model_dict)"
=======
    "# Evaluation using the pre-preocessed raw data\n",
    "print(\"Accuracy using pre-processed raw data: \")\n",
    "accuracy = model_evaluation_accuracy(x_train_raw, y_train_raw, x_test_raw, y_test_raw, model_dict)\n",
    "print()\n",
    "print(\"F1-Score using pre-processed raw data: \")\n",
    "accuracy = model_evaluation_f1(x_train_raw, y_train_raw, x_test_raw, y_test_raw, model_dict)\n"
>>>>>>> e8777ce917cacbbdfeac94ee77f532f514953fee
   ]
  },
  {
   "cell_type": "code",
   "execution_count": null,
   "metadata": {},
   "outputs": [],
   "source": []
  }
 ],
 "metadata": {
  "kernelspec": {
   "display_name": "Python 3",
   "language": "python",
   "name": "python3"
  },
  "language_info": {
   "codemirror_mode": {
    "name": "ipython",
    "version": 3
   },
   "file_extension": ".py",
   "mimetype": "text/x-python",
   "name": "python",
   "nbconvert_exporter": "python",
   "pygments_lexer": "ipython3",
   "version": "3.8.6"
  }
 },
 "nbformat": 4,
 "nbformat_minor": 4
}
