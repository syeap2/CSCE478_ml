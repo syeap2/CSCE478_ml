{
 "cells": [
  {
   "cell_type": "code",
   "execution_count": 15,
   "metadata": {},
   "outputs": [
    {
     "name": "stdout",
     "output_type": "stream",
     "text": [
      "Euclidean Distance: 2.83\n"
     ]
    }
   ],
   "source": [
    "import math\n",
    "\n",
    "def euclideanDistance(x2, x1, y2 ,y1):\n",
    "    distance = math.sqrt(math.pow(x2-x1, 2) + math.pow(y2-y1, 2))\n",
    "    print (\"Euclidean Distance: %.2f\" %distance)\n",
    "    \n",
    "euclideanDistance(2, 0, 2, 0)"
   ]
  },
  {
   "cell_type": "code",
   "execution_count": 2,
   "metadata": {},
   "outputs": [
    {
     "name": "stdout",
     "output_type": "stream",
     "text": [
      "Accurary: 0.50\n",
      "Generalization Error: 0.50\n"
     ]
    }
   ],
   "source": [
    "import numpy as np\n",
    "\n",
    "def accuraryGeneralization(predicted, actual):\n",
    "    accurary = sum(np.array(predicted) == np.array(actual)) / float(len(actual))\n",
    "    generalization = 1 - accurary\n",
    "    print (\"Accurary: %.2f\" %accurary)\n",
    "    print (\"Generalization Error: %.2f\" %accurary)\n",
    "    \n",
    "predicted = [0, 2, 1, 3]\n",
    "actual = [0, 1, 2, 3]\n",
    "accuraryGeneralization(predicted, actual)"
   ]
  },
  {
   "cell_type": "code",
   "execution_count": 3,
   "metadata": {},
   "outputs": [
    {
     "data": {
      "text/plain": [
       "array([[3., 2., 0., 0., 0.],\n",
       "       [0., 1., 1., 1., 1.],\n",
       "       [0., 0., 3., 0., 1.],\n",
       "       [0., 1., 0., 0., 0.],\n",
       "       [1., 0., 0., 0., 0.]])"
      ]
     },
     "execution_count": 3,
     "metadata": {},
     "output_type": "execute_result"
    }
   ],
   "source": [
    "def confusionMatrix(predicted, actual):\n",
    "    confusionLists = np.unique(actual)\n",
    "    matrixSize = len(confusionLists)\n",
    "    matrix = np.zeros((matrixSize, matrixSize))\n",
    "    for i in range (matrixSize):\n",
    "        for j in range (matrixSize):\n",
    "            matrix[i, j] = np.sum((actual == confusionLists[i]) & (predicted == confusionLists[j]))\n",
    "    return matrix\n",
    "\n",
    "predicted = [1, 3, 3, 2, 5, 5, 3, 2, 1, 4, 3, 2, 1, 1, 2]\n",
    "actual = [1, 2, 3, 4, 2, 3, 3, 2, 1, 2, 3, 1, 5, 1, 1]\n",
    "confusionMatrix(predicted, actual)"
   ]
  },
  {
   "cell_type": "code",
   "execution_count": 9,
   "metadata": {},
   "outputs": [
    {
     "data": {
      "image/png": "[encoded data removed]",
      "text/plain": [
       "<Figure size 432x288 with 1 Axes>"
      ]
     },
     "metadata": {
      "needs_background": "light"
     },
     "output_type": "display_data"
    },
    {
     "name": "stdout",
     "output_type": "stream",
     "text": [
      "0.43\n"
     ]
    }
   ],
   "source": [
    "import matplotlib.pyplot as plt\n",
    "\n",
    "def AUC(fpr, tpr):\n",
    "    plt.plot(fpr,tpr)\n",
    "    plt.show()\n",
    "    \n",
    "    auc = np.trapz(tpr,fpr)\n",
    "    return auc\n",
    "\n",
    "tpr = [0,0,1,1]\n",
    "fpr = [0.1, 0.4, 0.35, 0.8]\n",
    "print (\"%.2f\" %AUC(fpr, tpr))\n",
    "\n"
   ]
  },
  {
   "cell_type": "code",
   "execution_count": 13,
   "metadata": {},
   "outputs": [
    {
     "ename": "IndentationError",
     "evalue": "expected an indented block (<ipython-input-13-acc4db9c477b>, line 24)",
     "output_type": "error",
     "traceback": [
      "\u001b[0;36m  File \u001b[0;32m\"<ipython-input-13-acc4db9c477b>\"\u001b[0;36m, line \u001b[0;32m24\u001b[0m\n\u001b[0;31m    def __init__(self):\u001b[0m\n\u001b[0m    ^\u001b[0m\n\u001b[0;31mIndentationError\u001b[0m\u001b[0;31m:\u001b[0m expected an indented block\n"
     ]
    }
   ],
   "source": [
    "def fit(self, X, Y, n_neighbors, weights, kwargs):\n",
    "    self.X = X\n",
    "    self.Y = Y\n",
    "    self.n_neighbors = n_neighbors\n",
    "    self.weights = weights\n",
    "    self.kwargs = kwargs\n",
    "    \n",
    "    neighborDistanceRow = []\n",
    "    \n",
    "    for row, column in enumerate(X):\n",
    "        distance = weights(column[:-1], Y)\n",
    "        neighborDistanceRow.append(distance, row)\n",
    "    \n",
    "    sortedNeighborDistanceRow = sorted(neighborDistanceRow)\n",
    "    \n",
    "    kDistanceRow =  sortedNeighborDistanceRow[:n_neighbors]\n",
    "    \n",
    "    kLabel = [X[i][1] for distance, i in kDistanceRow]\n",
    "    \n",
    "    return \n",
    "\n",
    "def predict(self, X):\n",
    "    return \n",
    "    \n",
    "def __init__(self):\n",
    "    return self\n",
    "    "
   ]
  }
 ],
 "metadata": {
  "kernelspec": {
   "display_name": "Python 3",
   "language": "python",
   "name": "python3"
  },
  "language_info": {
   "codemirror_mode": {
    "name": "ipython",
    "version": 3
   },
   "file_extension": ".py",
   "mimetype": "text/x-python",
   "name": "python",
   "nbconvert_exporter": "python",
   "pygments_lexer": "ipython3",
   "version": "3.8.5"
  }
 },
 "nbformat": 4,
 "nbformat_minor": 4
}
